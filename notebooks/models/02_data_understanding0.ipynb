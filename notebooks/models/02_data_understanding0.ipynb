{
  "cells": [
    {
      "cell_type": "markdown",
      "metadata": {
        "id": "RDKDsY0hBv-3"
      },
      "source": [
        "# Cargar extensión de Kedro y librerí"
      ]
    },
    {
      "cell_type": "code",
      "execution_count": null,
      "metadata": {
        "id": "ZTRe_nvkBr2i"
      },
      "outputs": [],
      "source": [
        "%load_ext kedro.ipython\n",
        "import pandas as pd\n",
        "import numpy as np\n",
        "import seaborn as sns\n",
        "import matplotlib.pyplot as plt\n",
        "%matplotlib inline\n",
        "sns.set(color_codes=True, style='whitegrid')\n",
        "plt.rcParams['figure.figsize'] = (12, 6)"
      ]
    },
    {
      "cell_type": "markdown",
      "metadata": {
        "id": "Wl5xqez8ByAi"
      },
      "source": [
        "# Verificar las keys disponibles en el catálogo"
      ]
    },
    {
      "cell_type": "code",
      "execution_count": null,
      "metadata": {
        "id": "Ilut-p62B2bg"
      },
      "outputs": [],
      "source": [
        "print(\"Keys disponibles en el catálogo:\")\n",
        "catalog.keys()"
      ]
    },
    {
      "cell_type": "markdown",
      "metadata": {
        "id": "RkBaHpvsB0ag"
      },
      "source": [
        "# --- Cargar datasets ---"
      ]
    },
    {
      "cell_type": "code",
      "execution_count": null,
      "metadata": {
        "id": "ZGA-q9a7CBON"
      },
      "outputs": [],
      "source": [
        "games = catalog.load(\"games\")\n",
        "details = catalog.load(\"games_details\")\n",
        "teams = catalog.load(\"teams\")\n",
        "\n",
        "print(f\"Dimensiones de los datasets:\")\n",
        "print(f\"games: {games.shape}\")\n",
        "print(f\"details: {details.shape}\")\n",
        "print(f\"teams: {teams.shape}\")"
      ]
    },
    {
      "cell_type": "markdown",
      "metadata": {
        "id": "PyTY690LB8nf"
      },
      "source": [
        "# Análisis del Dataset 'games'"
      ]
    },
    {
      "cell_type": "markdown",
      "metadata": {
        "id": "uWDhRCBLCKL6"
      },
      "source": [
        "- `games`: contiene **23,450 partidos** con 45 variables cada uno  \n",
        "- `details`: contiene **1.24M+ registros** de estadísticas por jugador  \n",
        "- `teams`: información de los **30 equipos de la NBA**"
      ]
    },
    {
      "cell_type": "markdown",
      "metadata": {
        "id": "zuPbf9Q3CL5w"
      },
      "source": [
        "# Primer vistazo a los datos de partidos"
      ]
    },
    {
      "cell_type": "code",
      "execution_count": null,
      "metadata": {
        "id": "tdmVLSFcCFdB"
      },
      "outputs": [],
      "source": [
        "print(\"Primeras 5 filas del dataset 'games':\")\n",
        "display(games.head())"
      ]
    },
    {
      "cell_type": "markdown",
      "metadata": {
        "id": "tvertu31CNy0"
      },
      "source": [
        "# Información del dataset"
      ]
    },
    {
      "cell_type": "code",
      "execution_count": null,
      "metadata": {
        "id": "HQOMEBkNCPAI"
      },
      "outputs": [],
      "source": [
        "print(\"Información del dataset 'games':\")\n",
        "games.info()"
      ]
    },
    {
      "cell_type": "markdown",
      "metadata": {
        "id": "1EJCVyRdCQHJ"
      },
      "source": [
        "# Estadísticas descriptivas"
      ]
    },
    {
      "cell_type": "code",
      "execution_count": null,
      "metadata": {
        "id": "PTbCpJkvCSBc"
      },
      "outputs": [],
      "source": [
        "print(\"Estadísticas descriptivas de 'games':\")\n",
        "display(games.describe().T)"
      ]
    },
    {
      "cell_type": "markdown",
      "metadata": {
        "id": "4jcN1SDvlRyy"
      },
      "source": [
        "✅ **Análisis:**  \n",
        "- **Promedio puntos local:** `104.5` vs visitante `101.8` → ventaja de +2.7 puntos  \n",
        "- **Porcentaje victorias locales:** `59.5%`  \n",
        "- **FG_PCT_home:** 45.8% de efectividad vs 44.9% visitante  \n",
        "- Confirma ventaja de jugar en casa y consistencia en las estadísticas."
      ]
    },
    {
      "cell_type": "markdown",
      "metadata": {
        "id": "WJz_azU3CTPK"
      },
      "source": [
        "# Últimas filas del dataset"
      ]
    },
    {
      "cell_type": "code",
      "execution_count": null,
      "metadata": {
        "id": "x4K7p2y9CfeO"
      },
      "outputs": [],
      "source": [
        "print(\"Últimas 5 filas del dataset 'games':\")\n",
        "display(games.tail())"
      ]
    },
    {
      "cell_type": "markdown",
      "metadata": {
        "id": "R-WkthRbCg9q"
      },
      "source": [
        "# Número de valores únicos por columna"
      ]
    },
    {
      "cell_type": "code",
      "execution_count": null,
      "metadata": {
        "id": "U2hBp0beCiJ3"
      },
      "outputs": [],
      "source": [
        "print(\"Número de valores únicos por columna en 'games':\")\n",
        "display(games.nunique())"
      ]
    },
    {
      "cell_type": "markdown",
      "metadata": {
        "id": "oGxL8TptCjGD"
      },
      "source": [
        "# Estadísticas descriptivas completas"
      ]
    },
    {
      "cell_type": "code",
      "execution_count": null,
      "metadata": {
        "id": "wNeTLM9aCkbj"
      },
      "outputs": [],
      "source": [
        "print(\"Estadísticas descriptivas completas:\")\n",
        "display(games.describe())"
      ]
    },
    {
      "cell_type": "markdown",
      "metadata": {
        "id": "bo8gh0aLClmv"
      },
      "source": [
        "# Análisis de la variable HOME_TEAM_WINS"
      ]
    },
    {
      "cell_type": "code",
      "execution_count": null,
      "metadata": {
        "id": "FmGQmDdUCnuP"
      },
      "outputs": [],
      "source": [
        "print(\"Distribución de victorias locales:\")\n",
        "display(games['HOME_TEAM_WINS'].value_counts())"
      ]
    },
    {
      "cell_type": "markdown",
      "metadata": {
        "id": "Bhf_sSVfi360"
      },
      "source": [
        "La ventaja de jugar en casa es real y significativa. Los equipos ganan 19% más partidos cuando juegan en casa. Esto equivale a que por cada 10 partidos, el equipo local gana 6 y pierde 4."
      ]
    },
    {
      "cell_type": "markdown",
      "metadata": {
        "id": "PBhyyc8hCo_R"
      },
      "source": [
        "# Función para convertir a booleano"
      ]
    },
    {
      "cell_type": "code",
      "execution_count": null,
      "metadata": {
        "id": "VV7gNOriCqqn"
      },
      "outputs": [],
      "source": [
        "def _is_true(x: pd.Series) -> pd.Series:\n",
        "    return x == 1"
      ]
    },
    {
      "cell_type": "markdown",
      "metadata": {
        "id": "X3vhtG0JCr4F"
      },
      "source": [
        "# Aplicar la conversión"
      ]
    },
    {
      "cell_type": "code",
      "execution_count": null,
      "metadata": {
        "id": "dXM8CFjECtRH"
      },
      "outputs": [],
      "source": [
        "games['HOME_TEAM_WINS'] = _is_true(games['HOME_TEAM_WINS'])\n",
        "print(\"Variable HOME_TEAM_WINS convertida a booleano:\")\n",
        "display(games['HOME_TEAM_WINS'].value_counts())"
      ]
    },
    {
      "cell_type": "markdown",
      "metadata": {
        "id": "-xVygvJNCvCA"
      },
      "source": [
        "# Análisis de valores missing"
      ]
    },
    {
      "cell_type": "code",
      "execution_count": null,
      "metadata": {
        "id": "suPQTu9fCwsC"
      },
      "outputs": [],
      "source": [
        "print(\"Porcentaje de valores missing por columna (ordenado descendente):\")\n",
        "missing_percentage = games.isna().mean().sort_values(ascending=False) * 100\n",
        "display(missing_percentage[missing_percentage > 0])"
      ]
    },
    {
      "cell_type": "markdown",
      "metadata": {
        "id": "p_i6cDn3leVE"
      },
      "source": [
        "No hay valores faltantes en `games`.  \n",
        "Esto es ideal para modelado, no será necesario imputar datos."
      ]
    },
    {
      "cell_type": "markdown",
      "metadata": {
        "id": "h-2w-fhBCyUw"
      },
      "source": [
        "## Análisis Temporal de los Partidos"
      ]
    },
    {
      "cell_type": "markdown",
      "metadata": {
        "id": "nxrvT07qC0cs"
      },
      "source": [
        "# Distribución de partidos por temporada"
      ]
    },
    {
      "cell_type": "code",
      "execution_count": null,
      "metadata": {
        "id": "BdsHf9TuC2ND"
      },
      "outputs": [],
      "source": [
        "plt.figure(figsize=(14, 6))\n",
        "sns.countplot(x=\"SEASON\", data=games)\n",
        "plt.title(\"Cantidad de juegos por temporada\", fontsize=16, fontweight='bold')\n",
        "plt.xlabel(\"Temporada\")\n",
        "plt.ylabel(\"Número de Partidos\")\n",
        "plt.xticks(rotation=45)\n",
        "plt.tight_layout()\n",
        "plt.show()"
      ]
    },
    {
      "cell_type": "markdown",
      "metadata": {
        "id": "duovDKNClivu"
      },
      "source": [
        "✅ **Análisis:**  \n",
        "- La cantidad de partidos es **constante** por temporada (~1,380).  \n",
        "- Esto asegura que no hay sesgos temporales en el dataset."
      ]
    },
    {
      "cell_type": "markdown",
      "metadata": {
        "id": "W3sIs81UC4H4"
      },
      "source": [
        "# Distribución de puntos anotados"
      ]
    },
    {
      "cell_type": "code",
      "execution_count": null,
      "metadata": {
        "id": "jDe2TwrdC5fc"
      },
      "outputs": [],
      "source": [
        "plt.figure(figsize=(12, 6))\n",
        "sns.histplot(games[\"PTS_home\"], kde=True, label=\"Local\", color=\"blue\", alpha=0.7)\n",
        "sns.histplot(games[\"PTS_away\"], kde=True, label=\"Visitante\", color=\"red\", alpha=0.7)\n",
        "plt.legend()\n",
        "plt.title(\"Distribución de puntos anotados (Local vs Visitante)\", fontsize=16, fontweight='bold')\n",
        "plt.xlabel(\"Puntos Anotados\")\n",
        "plt.ylabel(\"Frecuencia\")\n",
        "plt.show()"
      ]
    },
    {
      "cell_type": "markdown",
      "metadata": {
        "id": "5vOWam4IlppO"
      },
      "source": [
        "- ✅ **Análisis:**  \n",
        "- Ambas distribuciones son normales, pero los locales anotan en promedio **~3 puntos más**."
      ]
    },
    {
      "cell_type": "markdown",
      "metadata": {
        "id": "GaLWJWnPC69K"
      },
      "source": [
        "# Calcular diferencia de puntos"
      ]
    },
    {
      "cell_type": "code",
      "execution_count": null,
      "metadata": {
        "id": "nghJ6uJ3C8fv"
      },
      "outputs": [],
      "source": [
        "games[\"DIFF\"] = games[\"PTS_home\"] - games[\"PTS_away\"]"
      ]
    },
    {
      "cell_type": "markdown",
      "metadata": {
        "id": "-nGaXO34C-PP"
      },
      "source": [
        "# Distribución de la diferencia de puntos"
      ]
    },
    {
      "cell_type": "code",
      "execution_count": null,
      "metadata": {
        "id": "353rj9f1C_df"
      },
      "outputs": [],
      "source": [
        "plt.figure(figsize=(12, 6))\n",
        "sns.histplot(games[\"DIFF\"], kde=True, color=\"green\")\n",
        "plt.title(\"Distribución de la diferencia de puntos (Local - Visitante)\", fontsize=16, fontweight='bold')\n",
        "plt.xlabel(\"Diferencia de Puntos\")\n",
        "plt.ylabel(\"Frecuencia\")\n",
        "plt.axvline(x=0, color='red', linestyle='--', label='Empate')\n",
        "plt.legend()\n",
        "plt.show()"
      ]
    },
    {
      "cell_type": "markdown",
      "metadata": {
        "id": "WHaUfFDVki1j"
      },
      "source": [
        " ✅ **Análisis:**  \n",
        "- La distribución está centrada en +2.7 → ventaja clara de local.  \n",
        "- Hay partidos extremos con diferencia >50 puntos."
      ]
    },
    {
      "cell_type": "markdown",
      "metadata": {
        "id": "d-oLkVxgDF4f"
      },
      "source": [
        "## Análisis por Equipos"
      ]
    },
    {
      "cell_type": "markdown",
      "metadata": {
        "id": "YAaeV1pODJRS"
      },
      "source": [
        "# Puntos promedio como local por equipo\n"
      ]
    },
    {
      "cell_type": "code",
      "execution_count": null,
      "metadata": {
        "id": "rKrOfNTwDHwW"
      },
      "outputs": [],
      "source": [
        "home_points = games.groupby(\"HOME_TEAM_ID\")[\"PTS_home\"].agg(['mean', 'std', 'count']).sort_values(by='mean', ascending=False)\n",
        "print(\"Top 10 equipos con más puntos en casa:\")\n",
        "display(home_points.head(10))"
      ]
    },
    {
      "cell_type": "markdown",
      "metadata": {
        "id": "gl4F8vztDKy3"
      },
      "source": [
        "# Puntos promedio como visitante por equipo"
      ]
    },
    {
      "cell_type": "code",
      "execution_count": null,
      "metadata": {
        "id": "zkyfuYSBDMP_"
      },
      "outputs": [],
      "source": [
        "away_points = games.groupby(\"VISITOR_TEAM_ID\")[\"PTS_away\"].agg(['mean', 'std', 'count']).sort_values(by='mean', ascending=False)\n",
        "print(\"Top 10 equipos con más puntos como visitante:\")\n",
        "display(away_points.head(10))"
      ]
    },
    {
      "cell_type": "markdown",
      "metadata": {
        "id": "sPpJywI6DNZ4"
      },
      "source": [
        "# Porcentaje de victorias en casa por equipo"
      ]
    },
    {
      "cell_type": "code",
      "execution_count": null,
      "metadata": {
        "id": "GN8oH7tWDOk_"
      },
      "outputs": [],
      "source": [
        "home_wins = games.groupby(\"HOME_TEAM_ID\")[\"HOME_TEAM_WINS\"].mean().sort_values(ascending=False) * 100\n",
        "print(\"Top 10 equipos con mejor porcentaje de victorias en casa:\")\n",
        "display(home_wins.head(10).round(2))"
      ]
    },
    {
      "cell_type": "markdown",
      "metadata": {
        "id": "zfhMEuR_DP-H"
      },
      "source": [
        "## Análisis del Dataset 'games_details'"
      ]
    },
    {
      "cell_type": "markdown",
      "metadata": {
        "id": "CmHH35t_DSUj"
      },
      "source": [
        "# Este dataset contiene estadísticas detalladas por jugador en cada partido."
      ]
    },
    {
      "cell_type": "markdown",
      "metadata": {
        "id": "1SBPwc4ADVai"
      },
      "source": [
        "# Configurar para mostrar todas las columnas"
      ]
    },
    {
      "cell_type": "code",
      "execution_count": null,
      "metadata": {
        "id": "uuMumEIuDXBo"
      },
      "outputs": [],
      "source": [
        "pd.set_option('display.max_columns', None)\n",
        "\n",
        "print(\"Primeras 5 filas del dataset 'games_details':\")\n",
        "display(details.head())"
      ]
    },
    {
      "cell_type": "markdown",
      "metadata": {
        "id": "4-RZzVYXl3Wv"
      },
      "source": [
        " ✅ **Análisis:**  \n",
        " - 25 columnas con estadísticas por jugador  \n",
        " - Información clave: `PTS`, `REB`, `AST`, `MIN`, etc.  \n",
        " Útil para features de nivel jugador/equipo."
      ]
    },
    {
      "cell_type": "markdown",
      "metadata": {
        "id": "1_CS1bj4DYgR"
      },
      "source": [
        "# Información del dataset"
      ]
    },
    {
      "cell_type": "code",
      "execution_count": null,
      "metadata": {
        "id": "pFDvU3P_DaBi"
      },
      "outputs": [],
      "source": [
        "print(\"Información del dataset 'games_details':\")\n",
        "details.info()\n"
      ]
    },
    {
      "cell_type": "markdown",
      "metadata": {
        "id": "Jm1tn7zHl9NB"
      },
      "source": [
        " ✅ **Análisis:**  \n",
        " - Más de 1.2M registros\n",
        " - Única columna con missing importante: `START_POSITION` (28.6%)  \n",
        " Esto es normal para jugadores que entraron desde la banca."
      ]
    },
    {
      "cell_type": "markdown",
      "metadata": {
        "id": "USbA_2nnDbQP"
      },
      "source": [
        "# Estadísticas descriptivas"
      ]
    },
    {
      "cell_type": "code",
      "execution_count": null,
      "metadata": {
        "id": "y3HQBv2zDdNd"
      },
      "outputs": [],
      "source": [
        "print(\"Estadísticas descriptivas de 'games_details':\")\n",
        "display(details.describe().T)"
      ]
    },
    {
      "cell_type": "markdown",
      "metadata": {
        "id": "ICWnR2LjmBco"
      },
      "source": [
        " ✅ **Análisis:**  \n",
        " - Promedio de **7.8 puntos por jugador** por partido  \n",
        " - Distribución sesgada: pocos jugadores anotan mucho, muchos anotan poco  \n",
        " - Valores extremos (máximo 81 pts → récord de Kobe Bryant)\n"
      ]
    },
    {
      "cell_type": "markdown",
      "metadata": {
        "id": "37gOqNUpDeiI"
      },
      "source": [
        "# Número de valores únicos por columna"
      ]
    },
    {
      "cell_type": "code",
      "execution_count": null,
      "metadata": {
        "id": "U5SnrA0hDgwj"
      },
      "outputs": [],
      "source": [
        "print(\"Número de valores únicos por columna en 'games_details':\")\n",
        "display(details.nunique())"
      ]
    },
    {
      "cell_type": "markdown",
      "metadata": {
        "id": "leFjBg8uDiT3"
      },
      "source": [
        "# Análisis de valores missing"
      ]
    },
    {
      "cell_type": "code",
      "execution_count": null,
      "metadata": {
        "id": "fe1EYTWcDjrX"
      },
      "outputs": [],
      "source": [
        "print(\"Porcentaje de valores missing en 'games_details' (top 10):\")\n",
        "missing_details = details.isna().mean().sort_values(ascending=False) * 100\n",
        "display(missing_details.head(10))"
      ]
    },
    {
      "cell_type": "markdown",
      "metadata": {
        "id": "WYNYXKWYmKcC"
      },
      "source": [
        " ✅ **Análisis:**  \n",
        " Excepto `START_POSITION`, todas las columnas tienen <1% de valores faltantes → alta calidad de datos."
      ]
    },
    {
      "cell_type": "markdown",
      "metadata": {
        "id": "banUgbNVDk-u"
      },
      "source": [
        "# Estadísticas de minutos jugados"
      ]
    },
    {
      "cell_type": "code",
      "execution_count": null,
      "metadata": {
        "id": "ofBQjUZnDmfR"
      },
      "outputs": [],
      "source": [
        "print(\"Estadísticas de minutos jugados por jugador:\")\n",
        "display(details['MIN'].describe())"
      ]
    },
    {
      "cell_type": "markdown",
      "metadata": {
        "id": "ySOqpj_wm3jS"
      },
      "source": [
        "**Análisis:**  \n",
        " - La estadística de minutos confirma que la mayoría de los jugadores juegan pocos minutos (media ~15),  \n",
        "   mientras que un subconjunto (titulares/estrellas) acumula minutos altos (>30).  \n",
        " - Esto sirve para distinguir titulares vs rol players y para crear features (p. ej. minutos ponderados)."
      ]
    },
    {
      "cell_type": "markdown",
      "metadata": {
        "id": "h4Ab1RJCDn3V"
      },
      "source": [
        "# Distribución de puntos por jugador"
      ]
    },
    {
      "cell_type": "code",
      "execution_count": null,
      "metadata": {
        "id": "-xq3gkgbDpcq"
      },
      "outputs": [],
      "source": [
        "plt.figure(figsize=(12, 6))\n",
        "sns.histplot(details['PTS'].dropna(), kde=True, bins=30)\n",
        "plt.title(\"Distribución de puntos por jugador por partido\", fontsize=16, fontweight='bold')\n",
        "plt.xlabel(\"Puntos\")\n",
        "plt.ylabel(\"Frecuencia\")\n",
        "plt.show()"
      ]
    },
    {
      "cell_type": "markdown",
      "metadata": {
        "id": "rDbBYzhZm9Xl"
      },
      "source": [
        " **Análisis:**  \n",
        " - Distribución de puntos por jugador claramente sesgada a la derecha: muchos jugadores con 0-10 pts,  \n",
        "   pocos con puntuaciones altas.  \n",
        " - Esto sugiere transformar/encasillar la variable para ciertos modelos o crear bins (ej. role/score tiers).\n"
      ]
    },
    {
      "cell_type": "markdown",
      "metadata": {
        "id": "y0BqRxBvDrXh"
      },
      "source": [
        "# Análisis del Dataset 'teams'"
      ]
    },
    {
      "cell_type": "markdown",
      "metadata": {
        "id": "n4jIO6enDs-L"
      },
      "source": [
        "# Este dataset contiene información sobre los equipos de la NBA."
      ]
    },
    {
      "cell_type": "code",
      "execution_count": null,
      "metadata": {
        "id": "BCpgodV-DxjA"
      },
      "outputs": [],
      "source": [
        "print(\"Primeras 5 filas del dataset 'teams':\")\n",
        "display(teams.head())"
      ]
    },
    {
      "cell_type": "markdown",
      "metadata": {
        "id": "cyugvPXXDuhU"
      },
      "source": [
        "# Información del dataset"
      ]
    },
    {
      "cell_type": "code",
      "execution_count": null,
      "metadata": {
        "id": "BKalt1lyDz1z"
      },
      "outputs": [],
      "source": [
        "print(\"Información del dataset 'teams':\")\n",
        "teams.info()"
      ]
    },
    {
      "cell_type": "markdown",
      "metadata": {
        "id": "vANrCZO4D1QX"
      },
      "source": [
        "# Estadísticas descriptivas"
      ]
    },
    {
      "cell_type": "code",
      "execution_count": null,
      "metadata": {
        "id": "CgeQ9WAuD2tc"
      },
      "outputs": [],
      "source": [
        "print(\"Estadísticas descriptivas de 'teams':\")\n",
        "display(teams.describe().T)"
      ]
    },
    {
      "cell_type": "markdown",
      "metadata": {
        "id": "IWLbd6r4D39t"
      },
      "source": [
        "# Número de valores únicos por columna"
      ]
    },
    {
      "cell_type": "code",
      "execution_count": null,
      "metadata": {
        "id": "Iy0RT0kRD5d4"
      },
      "outputs": [],
      "source": [
        "print(\"Número de valores únicos por columna en 'teams':\")\n",
        "display(teams.nunique())"
      ]
    },
    {
      "cell_type": "markdown",
      "metadata": {
        "id": "V87B-NHDnFou"
      },
      "source": [
        " **Análisis:**  \n",
        " - `teams` contiene metadatos estáticos (nombre, abreviación, ciudad, conferencia, división, etc.).  \n",
        " - Revisar `teams.info()` permite detectar columnas categóricas que se pueden usar para enriquecer visuales.  \n",
        " - `teams.nunique()` confirma cobertura completa (30 equipos) y consistencia para merges con `games`.\n"
      ]
    },
    {
      "cell_type": "markdown",
      "metadata": {
        "id": "531_LxSEEDKx"
      },
      "source": [
        "## Análisis de Correlaciones"
      ]
    },
    {
      "cell_type": "markdown",
      "metadata": {
        "id": "pgB5l-6fEFXN"
      },
      "source": [
        "# Seleccionar variables numéricas para correlación"
      ]
    },
    {
      "cell_type": "code",
      "execution_count": null,
      "metadata": {
        "id": "kkzfywDlEFjl"
      },
      "outputs": [],
      "source": [
        "numeric_cols = games.select_dtypes(include=[np.number]).columns\n",
        "correlation_matrix = games[numeric_cols].corr()"
      ]
    },
    {
      "cell_type": "markdown",
      "metadata": {
        "id": "ShclZqL6EHLi"
      },
      "source": [
        "# Mapa de calor de correlaciones"
      ]
    },
    {
      "cell_type": "code",
      "execution_count": null,
      "metadata": {
        "id": "QXzs1m0TEDvP"
      },
      "outputs": [],
      "source": [
        "plt.figure(figsize=(16, 12))\n",
        "sns.heatmap(correlation_matrix, annot=True, cmap='coolwarm', center=0, fmt='.2f')\n",
        "plt.title(\"Matriz de Correlación - Variables Numéricas\", fontsize=16, fontweight='bold')\n",
        "plt.tight_layout()\n",
        "plt.show()"
      ]
    },
    {
      "cell_type": "markdown",
      "metadata": {
        "id": "jTm4likJnKzn"
      },
      "source": [
        " **Análisis:**  \n",
        " - La matriz muestra correlaciones esperadas (por ejemplo, PTS_home con FG_PCT_home).  \n",
        " - Permite identificar features redundantes o altamente correlacionadas para selección/regularización.\n",
        " - Es útil para detectar variables potencialmente predictoras de `HOME_TEAM_WINS`.\n"
      ]
    },
    {
      "cell_type": "markdown",
      "metadata": {
        "id": "JniKEEvcEK6-"
      },
      "source": [
        "# Correlaciones con HOME_TEAM_WINS"
      ]
    },
    {
      "cell_type": "code",
      "execution_count": null,
      "metadata": {
        "id": "dVHobfw9EMVV"
      },
      "outputs": [],
      "source": [
        "print(\"Correlaciones con HOME_TEAM_WINS (ordenadas por valor absoluto):\")\n",
        "win_correlations = correlation_matrix['HOME_TEAM_WINS'].abs().sort_values(ascending=False)\n",
        "display(win_correlations.head(10))"
      ]
    },
    {
      "cell_type": "markdown",
      "metadata": {
        "id": "OFozbwFAnOPN"
      },
      "source": [
        "# **Análisis:**  \n",
        " - Aquí vemos qué variables numéricas se relacionan más con ganar en casa (positiva o negativamente).  \n",
        " - Datos como PTS_home, DIFF, porcentajes de tiro y rebotes suelen estar entre las top correlaciones.\n"
      ]
    },
    {
      "cell_type": "markdown",
      "metadata": {
        "id": "rVNPe0YsENp2"
      },
      "source": [
        "## Análisis de Outliers"
      ]
    },
    {
      "cell_type": "markdown",
      "metadata": {
        "id": "uul_5aW3EPB9"
      },
      "source": [
        "# Detección de outliers en puntos anotados"
      ]
    },
    {
      "cell_type": "code",
      "execution_count": null,
      "metadata": {
        "id": "eXFh3MKoEQ4-"
      },
      "outputs": [],
      "source": [
        "plt.figure(figsize=(12, 6))\n",
        "sns.boxplot(data=games[['PTS_home', 'PTS_away']])\n",
        "plt.title(\"Distribución de Puntos - Detección de Outliers\", fontsize=16, fontweight='bold')\n",
        "plt.ylabel(\"Puntos\")\n",
        "plt.show()"
      ]
    },
    {
      "cell_type": "markdown",
      "metadata": {
        "id": "3rBaVqqInR5-"
      },
      "source": [
        " **Análisis:**  \n",
        " - El boxplot permite detectar outliers en puntos anotados (partidos con scores extremos).  \n",
        " - Aunque hay valores atípicos, son plausibles en la NBA (partidos con puntajes muy altos o muy bajos).\n"
      ]
    },
    {
      "cell_type": "markdown",
      "metadata": {
        "id": "fLOcztzuESA6"
      },
      "source": [
        "# Partidos con mayor diferencia de puntos"
      ]
    },
    {
      "cell_type": "code",
      "execution_count": null,
      "metadata": {
        "id": "aa40fw9aETaG"
      },
      "outputs": [],
      "source": [
        "extreme_games = games.nlargest(10, 'DIFF')[['GAME_DATE_EST', 'HOME_TEAM_ID', 'VISITOR_TEAM_ID', 'PTS_home', 'PTS_away', 'DIFF']]\n",
        "print(\"Partidos con mayor diferencia de puntos a favor del local:\")\n",
        "display(extreme_games)"
      ]
    },
    {
      "cell_type": "markdown",
      "metadata": {
        "id": "sQL5LL9mEUah"
      },
      "source": [
        "# Partidos con menor diferencia de puntos"
      ]
    },
    {
      "cell_type": "code",
      "execution_count": null,
      "metadata": {
        "id": "Uv12-Xc5EVzJ"
      },
      "outputs": [],
      "source": [
        "close_games = games.nsmallest(10, abs(games['DIFF']))[['GAME_DATE_EST', 'HOME_TEAM_ID', 'VISITOR_TEAM_ID', 'PTS_home', 'PTS_away', 'DIFF']]\n",
        "print(\"Partidos más ajustados (menor diferencia absoluta):\")\n",
        "display(close_games)"
      ]
    },
    {
      "cell_type": "markdown",
      "metadata": {
        "id": "rFDaUu-6nVtb"
      },
      "source": [
        " **Análisis:**  \n",
        " - `extreme_games` muestra goleadas locales (DIFF muy altos). Revisar estos partidos puede revelar circunstancias especiales (lesiones, back-to-back, finales de temporada).  \n",
        " - `close_games` lista los partidos más parejos (ABS_DIFF cercano a 0), ideales para estudiar factores determinantes en victorias/apuestas de margen pequeño.\n",
        " - Esta información es útil para crear labels/weights en modelos o para análisis cualitativos (por ejemplo, impacto de descansos, rotación, cambios tácticos).\n"
      ]
    },
    {
      "cell_type": "markdown",
      "metadata": {
        "id": "a81HoJyTEW2S"
      },
      "source": [
        "## Hallazgos Principales y Conclusiones"
      ]
    },
    {
      "cell_type": "markdown",
      "metadata": {
        "id": "DvGMKCL_Ebrl"
      },
      "source": [
        " ## 📊 Análisis Simple de los Resultados\n",
        "\n",
        " ### 🏀 **Hallazgos Principales**\n",
        "\n",
        " #### **1. 📈 Ventaja de Jugar en Casa es REAL**\n",
        " ```python\n",
        " # 59.5% de victorias locales vs 40.5% de visitantes\n",
        " ```\n",
        " **¿Qué significa?**\n",
        " - Los equipos ganan **19% más** cuando juegan en casa\n",
        " - Esto equivale a **~3 puntos extra** de ventaja en promedio\n",
        " - **Implicación**: El factor local es significativo en la NBA\n",
        "\n",
        " #### **2. 🎯 Los Equipos Anotan Más en Casa**\n",
        " ```python\n",
        " # Locales: 104.5 puntos | Visitantes: 101.8 puntos\n",
        " ```\n",
        " **Diferencia de +2.7 puntos** por partido\n",
        " - Mejor ofensa en casa\n",
        " - Posiblemente mejor descanso, rutinas, apoyo de la hinchada\n",
        " - Los visitantes viajan y se adaptan a canchas diferentes\n",
        "\n",
        " #### **3. ⏰ Consistencia Temporal**\n",
        " ```python\n",
        " # 17 temporadas analizadas (2003-2020)\n",
        " ```\n",
        " **Estabilidad en la liga:**\n",
        " - Mismo número de equipos (30)\n",
        " - Misma cantidad de partidos por temporada (~1,380)\n",
        " - Reglas y formato consistentes\n",
        "\n",
        " #### **4. 📊 Calidad de Datos EXCELENTE**\n",
        " ```python\n",
        " # 0% valores missing en partidos | <29% en detalles\n",
        " ```\n",
        " **Ventajas:**\n",
        " - No need imputación extensiva en datos principales\n",
        " - Solo posición inicial tiene missing values (esperado)\n",
        " - Datos confiables para análisis\n",
        "\n",
        " #### **5. 🏆 Equipos Dominantes Identificados**\n",
        " ```python\n",
        " # Mejores en casa: ~72% victorias | Peores: ~45%\n",
        " ```\n",
        " **Rango amplio de performance:**\n",
        " - Algunos equipos son MUY fuertes en casa\n",
        " - Otros tienen poca ventaja de local\n",
        " - Oportunidad para análisis de \"fortalezas locales\"\n",
        "\n",
        " #### **6. 🎪 Distribución de Puntos Normal**\n",
        " ```python\n",
        " # Forma de campana en puntos anotados\n",
        " ```\n",
        " **Pattern esperado:**\n",
        " - Pocos partidos con scores extremos\n",
        " - La mayoría entre 90-120 puntos\n",
        " - NBA es ofensiva pero no descontrolada\n",
        "\n",
        " #### **7. 👥 Jugadores: Pocos Estrellas, Muchos Role Players**\n",
        " ```python\n",
        " # 2,850 jugadores únicos | Media de 7.8 puntos por juego\n",
        " ```\n",
        " **Pirámide de talento:**\n",
        " - Pocos jugadores anotan >20 puntos\n",
        " - Muchos jugadores anotan <5 puntos\n",
        " - Distribución típica de deportes profesionales\n",
        "\n",
        "💡 **Implicaciones para el Proyecto**\n",
        "  #### **Para Machine Learning:**\n",
        "- **Target claro**: Predecir victoria local (59.5% baseline)\n",
        " - **Features importantes**: Puntos, rebotes, porcentajes de tiro\n",
        " - **Contexto crucial**: Local/visitante ES importante\n",
        "\n",
        "\n",
        "### 🎯 **Conclusión**\n",
        "#\n",
        " **\"Sí, jugar en casa da ventaja en la NBA - equipos ganan 19% más y anotan 3 puntos extra\"**\n",
        "\n",
        " Los datos confirman la sabiduría convencional del basketball con números concretos. ¡Perfecto para construir modelos predictivos! 🏀📈"
      ]
    }
  ],
  "metadata": {
    "colab": {
      "provenance": []
    },
    "kernelspec": {
      "display_name": "Python 3",
      "name": "python3"
    },
    "language_info": {
      "name": "python",
      "version": "3.10.11"
    }
  },
  "nbformat": 4,
  "nbformat_minor": 0
}
