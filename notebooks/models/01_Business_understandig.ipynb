{
 "cells": [
  {
   "cell_type": "markdown",
   "metadata": {
    "id": "8XgLb-Fyehxe"
   },
   "source": [
    "## 1. Contexto del Proyecto"
   ]
  },
  {
   "cell_type": "markdown",
   "metadata": {
    "id": "2KDJCYr1ekLv"
   },
   "source": [
    "La NBA es una de las ligas de baloncesto más analizadas del mundo.\n",
    "El desempeño de los equipos en **juegos de local** y **juegos de visitante** es un factor clave para:\n",
    "- Estrategias de entrenamiento.\n",
    "- Predicciones de resultados.\n",
    "- Valoración de jugadores y equipos en apuestas deportivas o análisis estadístico.\n"
   ]
  },
  {
   "cell_type": "markdown",
   "metadata": {
    "id": "Mu01vlqCb4Iw"
   },
   "source": [
    "## 2. Objetivo de Negocio"
   ]
  },
  {
   "cell_type": "markdown",
   "metadata": {
    "id": "2_GeJjplb-qb"
   },
   "source": [
    "Responder a la pregunta:\n",
    "> **¿Qué equipos son los mejores jugando de local y los peores de visitante?**\n",
    "\n",
    "Y de manera complementaria:\n",
    "- Identificar cuáles equipos anotan más puntos en promedio.\n",
    "- Identificar cuáles equipos reciben más puntos en promedio.\n",
    "\n",
    "Esto ayudará a entender el **rendimiento global de los equipos** y servirá como base para:\n",
    "- Predicciones de resultados futuros.\n",
    "- Construcción de indicadores de fortaleza como local y debilidad como visitante.\n"
   ]
  },
  {
   "cell_type": "markdown",
   "metadata": {
    "id": "GKyn9TNrevWL"
   },
   "source": [
    "## 3. Objetivos de Data Science"
   ]
  },
  {
   "cell_type": "markdown",
   "metadata": {
    "id": "N1UdumUnevpp"
   },
   "source": [
    "- **Análisis descriptivo**: Comparar estadísticas de los equipos en casa y fuera.\n",
    "- **Visualizaciones**: Crear gráficos de barras que muestren puntos anotados y recibidos, separando local/visitante.\n",
    "- **Preparación de features**: Generar métricas como:\n",
    "  - `win_rate_home`\n",
    "  - `win_rate_away`\n",
    "  - `avg_points_for_home`\n",
    "  - `avg_points_against_away`"
   ]
  },
  {
   "cell_type": "markdown",
   "metadata": {
    "id": "Qqagqf5LezTr"
   },
   "source": [
    "## 4. Métricas de Éxito"
   ]
  },
  {
   "cell_type": "markdown",
   "metadata": {
    "id": "zMAKNfjge0fu"
   },
   "source": [
    "- **Entregable principal**: Reporte que ordene equipos según win rate en casa y en visita.\n",
    "- **KPI secundario**: Diferencia de puntos promedio a favor/en contra."
   ]
  },
  {
   "cell_type": "markdown",
   "metadata": {
    "id": "rCsk3OQOe5Wi"
   },
   "source": [
    "## 5. Supuestos y Restricciones"
   ]
  },
  {
   "cell_type": "markdown",
   "metadata": {
    "id": "b0BPGpiVe5uY"
   },
   "source": [
    "- Los datos incluyen todas las temporadas de la NBA en el período analizado.\n",
    "- Los equipos no cambian de ciudad ni nombre de forma relevante (si ocurre, se unificarán).\n",
    "- Se excluirán partidos incompletos o con datos faltantes en puntos.\n",
    "- Se considerarán solo juegos de temporada regular (no playoffs) si se quiere mantener comparabilidad."
   ]
  }
 ],
 "metadata": {
  "colab": {
   "authorship_tag": "ABX9TyPZj8kHHYGf4iPUf1X/ehU8",
   "provenance": []
  },
  "kernelspec": {
   "display_name": "Python 3 (ipykernel)",
   "language": "python",
   "name": "python3"
  },
  "language_info": {
   "codemirror_mode": {
    "name": "ipython",
    "version": 3
   },
   "file_extension": ".py",
   "mimetype": "text/x-python",
   "name": "python",
   "nbconvert_exporter": "python",
   "pygments_lexer": "ipython3",
   "version": "3.11.9"
  }
 },
 "nbformat": 4,
 "nbformat_minor": 4
}
