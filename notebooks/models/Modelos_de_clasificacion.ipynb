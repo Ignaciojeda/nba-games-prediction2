
  "cells": [
    {
      "cell_type": "markdown",
      "metadata": {
        "id": "OMTX5gVa1nPu"
      },
      "source": [
        "# Configuración inicial"
      ]
    },
    {
      "cell_type": "code",
      "execution_count": 1,
      "metadata": {
        "id": "zqYaaks-2U7c"
      },
      "outputs": [
        {
          "data": {
            "text/html": [
              "<pre style=\"white-space:pre;overflow-x:auto;line-height:normal;font-family:Menlo,'DejaVu Sans Mono',consolas,'Courier New',monospace\"><span style=\"color: #7fbfbf; text-decoration-color: #7fbfbf\">[10/24/25 19:32:01] </span><span style=\"color: #000080; text-decoration-color: #000080\">INFO    </span> Using                                                                  <a href=\"file://c:\\Users\\ignac\\AppData\\Local\\Programs\\Python\\Python310\\lib\\site-packages\\kedro\\framework\\project\\__init__.py\" target=\"_blank\"><span style=\"color: #7f7f7f; text-decoration-color: #7f7f7f\">__init__.py</span></a><span style=\"color: #7f7f7f; text-decoration-color: #7f7f7f\">:</span><a href=\"file://c:\\Users\\ignac\\AppData\\Local\\Programs\\Python\\Python310\\lib\\site-packages\\kedro\\framework\\project\\__init__.py#270\" target=\"_blank\"><span style=\"color: #7f7f7f; text-decoration-color: #7f7f7f\">270</span></a>\n",
              "<span style=\"color: #7fbfbf; text-decoration-color: #7fbfbf\">                    </span>         <span style=\"color: #008000; text-decoration-color: #008000\">'c:\\Users\\ignac\\AppData\\Local\\Programs\\Python\\Python310\\lib\\site-packa</span> <span style=\"color: #7f7f7f; text-decoration-color: #7f7f7f\">               </span>\n",
              "<span style=\"color: #7fbfbf; text-decoration-color: #7fbfbf\">                    </span>         <span style=\"color: #008000; text-decoration-color: #008000\">ges\\kedro\\framework\\project\\rich_logging.yml'</span> as logging               <span style=\"color: #7f7f7f; text-decoration-color: #7f7f7f\">               </span>\n",
              "<span style=\"color: #7fbfbf; text-decoration-color: #7fbfbf\">                    </span>         configuration.                                                         <span style=\"color: #7f7f7f; text-decoration-color: #7f7f7f\">               </span>\n",
              "</pre>\n"
            ],
            "text/plain": [
              "\u001b[2;36m[10/24/25 19:32:01]\u001b[0m\u001b[2;36m \u001b[0m\u001b[34mINFO    \u001b[0m Using                                                                  \u001b]8;id=130217;file://c:\\Users\\ignac\\AppData\\Local\\Programs\\Python\\Python310\\lib\\site-packages\\kedro\\framework\\project\\__init__.py\u001b\\\u001b[2m__init__.py\u001b[0m\u001b]8;;\u001b\\\u001b[2m:\u001b[0m\u001b]8;id=702168;file://c:\\Users\\ignac\\AppData\\Local\\Programs\\Python\\Python310\\lib\\site-packages\\kedro\\framework\\project\\__init__.py#270\u001b\\\u001b[2m270\u001b[0m\u001b]8;;\u001b\\\n",
              "\u001b[2;36m                    \u001b[0m         \u001b[32m'c:\\Users\\ignac\\AppData\\Local\\Programs\\Python\\Python310\\lib\\site-packa\u001b[0m \u001b[2m               \u001b[0m\n",
              "\u001b[2;36m                    \u001b[0m         \u001b[32mges\\kedro\\framework\\project\\rich_logging.yml'\u001b[0m as logging               \u001b[2m               \u001b[0m\n",
              "\u001b[2;36m                    \u001b[0m         configuration.                                                         \u001b[2m               \u001b[0m\n"
            ]
          },
          "metadata": {},
          "output_type": "display_data"
        },
        {
          "data": {
            "text/html": [
              "<pre style=\"white-space:pre;overflow-x:auto;line-height:normal;font-family:Menlo,'DejaVu Sans Mono',consolas,'Courier New',monospace\"><span style=\"color: #7fbfbf; text-decoration-color: #7fbfbf\">                    </span><span style=\"color: #000080; text-decoration-color: #000080\">INFO    </span> Registered line magic <span style=\"color: #008000; text-decoration-color: #008000\">'%reload_kedro'</span>                                   <a href=\"file://c:\\Users\\ignac\\AppData\\Local\\Programs\\Python\\Python310\\lib\\site-packages\\kedro\\ipython\\__init__.py\" target=\"_blank\"><span style=\"color: #7f7f7f; text-decoration-color: #7f7f7f\">__init__.py</span></a><span style=\"color: #7f7f7f; text-decoration-color: #7f7f7f\">:</span><a href=\"file://c:\\Users\\ignac\\AppData\\Local\\Programs\\Python\\Python310\\lib\\site-packages\\kedro\\ipython\\__init__.py#63\" target=\"_blank\"><span style=\"color: #7f7f7f; text-decoration-color: #7f7f7f\">63</span></a>\n",
              "</pre>\n"
            ],
            "text/plain": [
              "\u001b[2;36m                   \u001b[0m\u001b[2;36m \u001b[0m\u001b[34mINFO    \u001b[0m Registered line magic \u001b[32m'%reload_kedro'\u001b[0m                                   \u001b]8;id=873999;file://c:\\Users\\ignac\\AppData\\Local\\Programs\\Python\\Python310\\lib\\site-packages\\kedro\\ipython\\__init__.py\u001b\\\u001b[2m__init__.py\u001b[0m\u001b]8;;\u001b\\\u001b[2m:\u001b[0m\u001b]8;id=577610;file://c:\\Users\\ignac\\AppData\\Local\\Programs\\Python\\Python310\\lib\\site-packages\\kedro\\ipython\\__init__.py#63\u001b\\\u001b[2m63\u001b[0m\u001b]8;;\u001b\\\n"
            ]
          },
          "metadata": {},
          "output_type": "display_data"
        },
        {
          "data": {
            "text/html": [
              "<pre style=\"white-space:pre;overflow-x:auto;line-height:normal;font-family:Menlo,'DejaVu Sans Mono',consolas,'Courier New',monospace\"><span style=\"color: #7fbfbf; text-decoration-color: #7fbfbf\">                    </span><span style=\"color: #000080; text-decoration-color: #000080\">INFO    </span> Registered line magic <span style=\"color: #008000; text-decoration-color: #008000\">'%load_node'</span>                                      <a href=\"file://c:\\Users\\ignac\\AppData\\Local\\Programs\\Python\\Python310\\lib\\site-packages\\kedro\\ipython\\__init__.py\" target=\"_blank\"><span style=\"color: #7f7f7f; text-decoration-color: #7f7f7f\">__init__.py</span></a><span style=\"color: #7f7f7f; text-decoration-color: #7f7f7f\">:</span><a href=\"file://c:\\Users\\ignac\\AppData\\Local\\Programs\\Python\\Python310\\lib\\site-packages\\kedro\\ipython\\__init__.py#65\" target=\"_blank\"><span style=\"color: #7f7f7f; text-decoration-color: #7f7f7f\">65</span></a>\n",
              "</pre>\n"
            ],
            "text/plain": [
              "\u001b[2;36m                   \u001b[0m\u001b[2;36m \u001b[0m\u001b[34mINFO    \u001b[0m Registered line magic \u001b[32m'%load_node'\u001b[0m                                      \u001b]8;id=200749;file://c:\\Users\\ignac\\AppData\\Local\\Programs\\Python\\Python310\\lib\\site-packages\\kedro\\ipython\\__init__.py\u001b\\\u001b[2m__init__.py\u001b[0m\u001b]8;;\u001b\\\u001b[2m:\u001b[0m\u001b]8;id=881853;file://c:\\Users\\ignac\\AppData\\Local\\Programs\\Python\\Python310\\lib\\site-packages\\kedro\\ipython\\__init__.py#65\u001b\\\u001b[2m65\u001b[0m\u001b]8;;\u001b\\\n"
            ]
          },
          "metadata": {},
          "output_type": "display_data"
        },
        {
          "data": {
            "text/html": [
              "<pre style=\"white-space:pre;overflow-x:auto;line-height:normal;font-family:Menlo,'DejaVu Sans Mono',consolas,'Courier New',monospace\"><span style=\"color: #7fbfbf; text-decoration-color: #7fbfbf\">                    </span><span style=\"color: #000080; text-decoration-color: #000080\">INFO    </span> Resolved project path as:                                              <a href=\"file://c:\\Users\\ignac\\AppData\\Local\\Programs\\Python\\Python310\\lib\\site-packages\\kedro\\ipython\\__init__.py\" target=\"_blank\"><span style=\"color: #7f7f7f; text-decoration-color: #7f7f7f\">__init__.py</span></a><span style=\"color: #7f7f7f; text-decoration-color: #7f7f7f\">:</span><a href=\"file://c:\\Users\\ignac\\AppData\\Local\\Programs\\Python\\Python310\\lib\\site-packages\\kedro\\ipython\\__init__.py#180\" target=\"_blank\"><span style=\"color: #7f7f7f; text-decoration-color: #7f7f7f\">180</span></a>\n",
              "<span style=\"color: #7fbfbf; text-decoration-color: #7fbfbf\">                    </span>         c:\\Users\\ignac\\OneDrive\\Escritorio\\Kedro\\nba.                          <span style=\"color: #7f7f7f; text-decoration-color: #7f7f7f\">               </span>\n",
              "<span style=\"color: #7fbfbf; text-decoration-color: #7fbfbf\">                    </span>         To set a different path, run <span style=\"color: #008000; text-decoration-color: #008000\">'%reload_kedro &lt;project_root&gt;'</span>            <span style=\"color: #7f7f7f; text-decoration-color: #7f7f7f\">               </span>\n",
              "</pre>\n"
            ],
            "text/plain": [
              "\u001b[2;36m                   \u001b[0m\u001b[2;36m \u001b[0m\u001b[34mINFO    \u001b[0m Resolved project path as:                                              \u001b]8;id=955741;file://c:\\Users\\ignac\\AppData\\Local\\Programs\\Python\\Python310\\lib\\site-packages\\kedro\\ipython\\__init__.py\u001b\\\u001b[2m__init__.py\u001b[0m\u001b]8;;\u001b\\\u001b[2m:\u001b[0m\u001b]8;id=574429;file://c:\\Users\\ignac\\AppData\\Local\\Programs\\Python\\Python310\\lib\\site-packages\\kedro\\ipython\\__init__.py#180\u001b\\\u001b[2m180\u001b[0m\u001b]8;;\u001b\\\n",
              "\u001b[2;36m                    \u001b[0m         c:\\Users\\ignac\\OneDrive\\Escritorio\\Kedro\\nba.                          \u001b[2m               \u001b[0m\n",
              "\u001b[2;36m                    \u001b[0m         To set a different path, run \u001b[32m'%reload_kedro \u001b[0m\u001b[32m<\u001b[0m\u001b[32mproject_root\u001b[0m\u001b[32m>\u001b[0m\u001b[32m'\u001b[0m            \u001b[2m               \u001b[0m\n"
            ]
          },
          "metadata": {},
          "output_type": "display_data"
        },
        {
          "data": {
            "text/html": [
              "<pre style=\"white-space:pre;overflow-x:auto;line-height:normal;font-family:Menlo,'DejaVu Sans Mono',consolas,'Courier New',monospace\"><span style=\"color: #7fbfbf; text-decoration-color: #7fbfbf\">[10/24/25 19:32:07] </span><span style=\"color: #000080; text-decoration-color: #000080\">INFO    </span> Kedro is sending anonymous usage data with the sole purpose of improving <a href=\"file://c:\\Users\\ignac\\AppData\\Local\\Programs\\Python\\Python310\\lib\\site-packages\\kedro_telemetry\\plugin.py\" target=\"_blank\"><span style=\"color: #7f7f7f; text-decoration-color: #7f7f7f\">plugin.py</span></a><span style=\"color: #7f7f7f; text-decoration-color: #7f7f7f\">:</span><a href=\"file://c:\\Users\\ignac\\AppData\\Local\\Programs\\Python\\Python310\\lib\\site-packages\\kedro_telemetry\\plugin.py#243\" target=\"_blank\"><span style=\"color: #7f7f7f; text-decoration-color: #7f7f7f\">243</span></a>\n",
              "<span style=\"color: #7fbfbf; text-decoration-color: #7fbfbf\">                    </span>         the product. No personal data or IP addresses are stored on our side. To <span style=\"color: #7f7f7f; text-decoration-color: #7f7f7f\">             </span>\n",
              "<span style=\"color: #7fbfbf; text-decoration-color: #7fbfbf\">                    </span>         opt out, set the `KEDRO_DISABLE_TELEMETRY` or `DO_NOT_TRACK` environment <span style=\"color: #7f7f7f; text-decoration-color: #7f7f7f\">             </span>\n",
              "<span style=\"color: #7fbfbf; text-decoration-color: #7fbfbf\">                    </span>         variables, or create a `.telemetry` file in the current working          <span style=\"color: #7f7f7f; text-decoration-color: #7f7f7f\">             </span>\n",
              "<span style=\"color: #7fbfbf; text-decoration-color: #7fbfbf\">                    </span>         directory with the contents `consent: false`. To hide this message,      <span style=\"color: #7f7f7f; text-decoration-color: #7f7f7f\">             </span>\n",
              "<span style=\"color: #7fbfbf; text-decoration-color: #7fbfbf\">                    </span>         explicitly grant or deny consent. Read more at                           <span style=\"color: #7f7f7f; text-decoration-color: #7f7f7f\">             </span>\n",
              "<span style=\"color: #7fbfbf; text-decoration-color: #7fbfbf\">                    </span>         <span style=\"color: #0000ff; text-decoration-color: #0000ff; text-decoration: underline\">https://docs.kedro.org/en/stable/configuration/telemetry.html</span>            <span style=\"color: #7f7f7f; text-decoration-color: #7f7f7f\">             </span>\n",
              "</pre>\n"
            ],
            "text/plain": [
              "\u001b[2;36m[10/24/25 19:32:07]\u001b[0m\u001b[2;36m \u001b[0m\u001b[34mINFO    \u001b[0m Kedro is sending anonymous usage data with the sole purpose of improving \u001b]8;id=580883;file://c:\\Users\\ignac\\AppData\\Local\\Programs\\Python\\Python310\\lib\\site-packages\\kedro_telemetry\\plugin.py\u001b\\\u001b[2mplugin.py\u001b[0m\u001b]8;;\u001b\\\u001b[2m:\u001b[0m\u001b]8;id=167539;file://c:\\Users\\ignac\\AppData\\Local\\Programs\\Python\\Python310\\lib\\site-packages\\kedro_telemetry\\plugin.py#243\u001b\\\u001b[2m243\u001b[0m\u001b]8;;\u001b\\\n",
              "\u001b[2;36m                    \u001b[0m         the product. No personal data or IP addresses are stored on our side. To \u001b[2m             \u001b[0m\n",
              "\u001b[2;36m                    \u001b[0m         opt out, set the `KEDRO_DISABLE_TELEMETRY` or `DO_NOT_TRACK` environment \u001b[2m             \u001b[0m\n",
              "\u001b[2;36m                    \u001b[0m         variables, or create a `.telemetry` file in the current working          \u001b[2m             \u001b[0m\n",
              "\u001b[2;36m                    \u001b[0m         directory with the contents `consent: false`. To hide this message,      \u001b[2m             \u001b[0m\n",
              "\u001b[2;36m                    \u001b[0m         explicitly grant or deny consent. Read more at                           \u001b[2m             \u001b[0m\n",
              "\u001b[2;36m                    \u001b[0m         \u001b[4;94mhttps://docs.kedro.org/en/stable/configuration/telemetry.html\u001b[0m            \u001b[2m             \u001b[0m\n"
            ]
          },
          "metadata": {},
          "output_type": "display_data"
        },
        {
          "data": {
            "text/html": [
              "<pre style=\"white-space:pre;overflow-x:auto;line-height:normal;font-family:Menlo,'DejaVu Sans Mono',consolas,'Courier New',monospace\"><span style=\"color: #7fbfbf; text-decoration-color: #7fbfbf\">[10/24/25 19:32:08] </span><span style=\"color: #000080; text-decoration-color: #000080\">INFO    </span> Kedro project NBA                                                      <a href=\"file://c:\\Users\\ignac\\AppData\\Local\\Programs\\Python\\Python310\\lib\\site-packages\\kedro\\ipython\\__init__.py\" target=\"_blank\"><span style=\"color: #7f7f7f; text-decoration-color: #7f7f7f\">__init__.py</span></a><span style=\"color: #7f7f7f; text-decoration-color: #7f7f7f\">:</span><a href=\"file://c:\\Users\\ignac\\AppData\\Local\\Programs\\Python\\Python310\\lib\\site-packages\\kedro\\ipython\\__init__.py#146\" target=\"_blank\"><span style=\"color: #7f7f7f; text-decoration-color: #7f7f7f\">146</span></a>\n",
              "</pre>\n"
            ],
            "text/plain": [
              "\u001b[2;36m[10/24/25 19:32:08]\u001b[0m\u001b[2;36m \u001b[0m\u001b[34mINFO    \u001b[0m Kedro project NBA                                                      \u001b]8;id=178838;file://c:\\Users\\ignac\\AppData\\Local\\Programs\\Python\\Python310\\lib\\site-packages\\kedro\\ipython\\__init__.py\u001b\\\u001b[2m__init__.py\u001b[0m\u001b]8;;\u001b\\\u001b[2m:\u001b[0m\u001b]8;id=474642;file://c:\\Users\\ignac\\AppData\\Local\\Programs\\Python\\Python310\\lib\\site-packages\\kedro\\ipython\\__init__.py#146\u001b\\\u001b[2m146\u001b[0m\u001b]8;;\u001b\\\n"
            ]
          },
          "metadata": {},
          "output_type": "display_data"
        },
        {
          "data": {
            "text/html": [
              "<pre style=\"white-space:pre;overflow-x:auto;line-height:normal;font-family:Menlo,'DejaVu Sans Mono',consolas,'Courier New',monospace\"><span style=\"color: #7fbfbf; text-decoration-color: #7fbfbf\">                    </span><span style=\"color: #000080; text-decoration-color: #000080\">INFO    </span> Defined global variable <span style=\"color: #008000; text-decoration-color: #008000\">'context'</span>, <span style=\"color: #008000; text-decoration-color: #008000\">'session'</span>, <span style=\"color: #008000; text-decoration-color: #008000\">'catalog'</span> and            <a href=\"file://c:\\Users\\ignac\\AppData\\Local\\Programs\\Python\\Python310\\lib\\site-packages\\kedro\\ipython\\__init__.py\" target=\"_blank\"><span style=\"color: #7f7f7f; text-decoration-color: #7f7f7f\">__init__.py</span></a><span style=\"color: #7f7f7f; text-decoration-color: #7f7f7f\">:</span><a href=\"file://c:\\Users\\ignac\\AppData\\Local\\Programs\\Python\\Python310\\lib\\site-packages\\kedro\\ipython\\__init__.py#147\" target=\"_blank\"><span style=\"color: #7f7f7f; text-decoration-color: #7f7f7f\">147</span></a>\n",
              "<span style=\"color: #7fbfbf; text-decoration-color: #7fbfbf\">                    </span>         <span style=\"color: #008000; text-decoration-color: #008000\">'pipelines'</span>                                                            <span style=\"color: #7f7f7f; text-decoration-color: #7f7f7f\">               </span>\n",
              "</pre>\n"
            ],
            "text/plain": [
              "\u001b[2;36m                   \u001b[0m\u001b[2;36m \u001b[0m\u001b[34mINFO    \u001b[0m Defined global variable \u001b[32m'context'\u001b[0m, \u001b[32m'session'\u001b[0m, \u001b[32m'catalog'\u001b[0m and            \u001b]8;id=888577;file://c:\\Users\\ignac\\AppData\\Local\\Programs\\Python\\Python310\\lib\\site-packages\\kedro\\ipython\\__init__.py\u001b\\\u001b[2m__init__.py\u001b[0m\u001b]8;;\u001b\\\u001b[2m:\u001b[0m\u001b]8;id=562147;file://c:\\Users\\ignac\\AppData\\Local\\Programs\\Python\\Python310\\lib\\site-packages\\kedro\\ipython\\__init__.py#147\u001b\\\u001b[2m147\u001b[0m\u001b]8;;\u001b\\\n",
              "\u001b[2;36m                    \u001b[0m         \u001b[32m'pipelines'\u001b[0m                                                            \u001b[2m               \u001b[0m\n"
            ]
          },
          "metadata": {},
          "output_type": "display_data"
        },
        {
          "name": "stdout",
          "output_type": "stream",
          "text": [
            "✅ Librerías cargadas correctamente\n"
          ]
        }
      ],
      "source": [
        "%load_ext kedro.ipython\n",
        "import pandas as pd\n",
        "import numpy as np\n",
        "import seaborn as sns\n",
        "import matplotlib.pyplot as plt\n",
        "from sklearn.model_selection import train_test_split, GridSearchCV, cross_val_score\n",
        "from sklearn.preprocessing import StandardScaler\n",
        "from sklearn.metrics import accuracy_score, classification_report, confusion_matrix, roc_auc_score\n",
        "from sklearn.linear_model import LogisticRegression\n",
        "from sklearn.tree import DecisionTreeClassifier\n",
        "from sklearn.ensemble import RandomForestClassifier\n",
        "from sklearn.svm import SVC\n",
        "from sklearn.naive_bayes import GaussianNB\n",
        "import warnings\n",
        "warnings.filterwarnings('ignore')\n",
        "%matplotlib inline\n",
        "\n",
        "print(\"✅ Librerías cargadas correctamente\")"
      ]
    },
    {
      "cell_type": "markdown",
      "metadata": {
        "id": "DeGDrkmg1xq-"
      },
      "source": [
        "# 1. Carga y Preparación de Datos"
      ]
    },
    {
      "cell_type": "code",
      "execution_count": 2,
      "metadata": {
        "id": "CGCHXDDg2S-_"
      },
      "outputs": [
        {
          "data": {
            "text/html": [
              "<pre style=\"white-space:pre;overflow-x:auto;line-height:normal;font-family:Menlo,'DejaVu Sans Mono',consolas,'Courier New',monospace\"><span style=\"color: #7fbfbf; text-decoration-color: #7fbfbf\">[10/24/25 19:32:12] </span><span style=\"color: #000080; text-decoration-color: #000080\">INFO    </span> Loading data from <span style=\"color: #ff8700; text-decoration-color: #ff8700\">model_input_classification</span> <span style=\"font-weight: bold\">(</span>ParquetDataset<span style=\"font-weight: bold\">)</span><span style=\"color: #808000; text-decoration-color: #808000\">...</span>  <a href=\"file://c:\\Users\\ignac\\AppData\\Local\\Programs\\Python\\Python310\\lib\\site-packages\\kedro\\io\\data_catalog.py\" target=\"_blank\"><span style=\"color: #7f7f7f; text-decoration-color: #7f7f7f\">data_catalog.py</span></a><span style=\"color: #7f7f7f; text-decoration-color: #7f7f7f\">:</span><a href=\"file://c:\\Users\\ignac\\AppData\\Local\\Programs\\Python\\Python310\\lib\\site-packages\\kedro\\io\\data_catalog.py#1046\" target=\"_blank\"><span style=\"color: #7f7f7f; text-decoration-color: #7f7f7f\">1046</span></a>\n",
              "</pre>\n"
            ],
            "text/plain": [
              "\u001b[2;36m[10/24/25 19:32:12]\u001b[0m\u001b[2;36m \u001b[0m\u001b[34mINFO    \u001b[0m Loading data from \u001b[38;5;208mmodel_input_classification\u001b[0m \u001b[1m(\u001b[0mParquetDataset\u001b[1m)\u001b[0m\u001b[33m...\u001b[0m  \u001b]8;id=450649;file://c:\\Users\\ignac\\AppData\\Local\\Programs\\Python\\Python310\\lib\\site-packages\\kedro\\io\\data_catalog.py\u001b\\\u001b[2mdata_catalog.py\u001b[0m\u001b]8;;\u001b\\\u001b[2m:\u001b[0m\u001b]8;id=254022;file://c:\\Users\\ignac\\AppData\\Local\\Programs\\Python\\Python310\\lib\\site-packages\\kedro\\io\\data_catalog.py#1046\u001b\\\u001b[2m1046\u001b[0m\u001b]8;;\u001b\\\n"
            ]
          },
          "metadata": {},
          "output_type": "display_data"
        },
        {
          "name": "stdout",
          "output_type": "stream",
          "text": [
            "📊 Dataset de clasificación: (26651, 29)\n"
          ]
        }
      ],
      "source": [
        "# Cargar dataset de clasificación\n",
        "classification_data = catalog.load(\"model_input_classification\")\n",
        "print(f\"📊 Dataset de clasificación: {classification_data.shape}\")"
      ]
    },
    {
      "cell_type": "markdown",
      "metadata": {
        "id": "j4xGk5kY2Y75"
      },
      "source": [
        "# Separar features y target"
      ]
    },
    {
      "cell_type": "code",
      "execution_count": 3,
      "metadata": {
        "id": "qwoM8Kk02e4z"
      },
      "outputs": [
        {
          "name": "stdout",
          "output_type": "stream",
          "text": [
            "🎯 Features: 28, Target: 26651\n",
            "📈 Distribución del target: {True: 15645, False: 11006}\n"
          ]
        }
      ],
      "source": [
        "X = classification_data.drop('HOME_TEAM_WINS', axis=1)\n",
        "y = classification_data['HOME_TEAM_WINS']\n",
        "\n",
        "print(f\"🎯 Features: {X.shape[1]}, Target: {y.shape[0]}\")\n",
        "print(f\"📈 Distribución del target: {y.value_counts().to_dict()}\")"
      ]
    },
    {
      "cell_type": "markdown",
      "metadata": {
        "id": "mLpeKE3g2fNh"
      },
      "source": [
        "# Dividir en train/test"
      ]
    },
    {
      "cell_type": "code",
      "execution_count": 4,
      "metadata": {
        "id": "zEwkf8YI2hCH"
      },
      "outputs": [
        {
          "name": "stdout",
          "output_type": "stream",
          "text": [
            "✅ Datos divididos en train (80%) y test (20%)\n"
          ]
        }
      ],
      "source": [
        "X_train, X_test, y_train, y_test = train_test_split(\n",
        "    X, y, test_size=0.2, random_state=42, stratify=y\n",
        ")\n",
        "\n",
        "print(\"✅ Datos divididos en train (80%) y test (20%)\")"
      ]
    },
    {
      "cell_type": "markdown",
      "metadata": {
        "id": "qhqePbWG2kbH"
      },
      "source": [
        "# Escalar features"
      ]
    },
    {
      "cell_type": "code",
      "execution_count": 5,
      "metadata": {
        "id": "Bu1SPhQg2l7T"
      },
      "outputs": [
        {
          "name": "stdout",
          "output_type": "stream",
          "text": [
            "✅ Features escalados con StandardScaler\n"
          ]
        }
      ],
      "source": [
        "scaler = StandardScaler()\n",
        "X_train_scaled = scaler.fit_transform(X_train)\n",
        "X_test_scaled = scaler.transform(X_test)\n",
        "\n",
        "print(\"✅ Features escalados con StandardScaler\")"
      ]
    },
    {
      "cell_type": "markdown",
      "metadata": {
        "id": "NCsnJCK42nSB"
      },
      "source": [
        "# 2. Definición de Modelos y Hiperparámetros\n"
      ]
    },
    {
      "cell_type": "markdown",
      "metadata": {
        "id": "EJV2uk0N2puc"
      },
      "source": [
        "# Configuración de modelos y parámetros para GridSearch"
      ]
    },
    {
      "cell_type": "code",
      "execution_count": 6,
      "metadata": {
        "id": "pNlxUr1K2rMh"
      },
      "outputs": [
        {
          "name": "stdout",
          "output_type": "stream",
          "text": [
            "🎯 Configuración de 5 modelos lista para GridSearch\n"
          ]
        }
      ],
      "source": [
        "models_config = {\n",
        "    'Logistic Regression': {\n",
        "        'model': LogisticRegression(random_state=42, max_iter=1000),\n",
        "        'params': {\n",
        "            'C': [0.1, 1, 10],\n",
        "            'penalty': ['l1', 'l2'],\n",
        "            'solver': ['liblinear']\n",
        "        }\n",
        "    },\n",
        "    'Decision Tree': {\n",
        "        'model': DecisionTreeClassifier(random_state=42),\n",
        "        'params': {\n",
        "            'max_depth': [3, 5, 7, 10],\n",
        "            'min_samples_split': [2, 5, 10],\n",
        "            'min_samples_leaf': [1, 2, 4]\n",
        "        }\n",
        "    },\n",
        "    'Random Forest': {\n",
        "        'model': RandomForestClassifier(random_state=42),\n",
        "        'params': {\n",
        "            'n_estimators': [50, 100, 200],\n",
        "            'max_depth': [5, 10, 15],\n",
        "            'min_samples_split': [2, 5]\n",
        "        }\n",
        "    },\n",
        "    'SVM': {\n",
        "        'model': SVC(random_state=42, probability=True),\n",
        "        'params': {\n",
        "            'C': [0.1, 1, 10],\n",
        "            'kernel': ['linear', 'rbf'],\n",
        "            'gamma': ['scale', 'auto']\n",
        "        }\n",
        "    },\n",
        "    'Naive Bayes': {\n",
        "        'model': GaussianNB(),\n",
        "        'params': {}\n",
        "    }\n",
        "}\n",
        "\n",
        "print(\"🎯 Configuración de 5 modelos lista para GridSearch\")"
      ]
    },
    {
      "cell_type": "markdown",
      "metadata": {
        "id": "CGSNFNbP2uRR"
      },
      "source": [
        "# 3. Entrenamiento con GridSearchCV"
      ]
    },
    {
      "cell_type": "markdown",
      "metadata": {
        "id": "_tX2uBdP2vmi"
      },
      "source": [
        "# Diccionario para almacenar resultados"
      ]
    },
    {
      "cell_type": "code",
      "execution_count": 7,
      "metadata": {
        "id": "mlNaJ5_h2w_V"
      },
      "outputs": [
        {
          "name": "stdout",
          "output_type": "stream",
          "text": [
            "🚀 INICIANDO ENTRENAMIENTO CON GRIDSEARCHCV\n",
            "============================================================\n",
            "\n",
            "📊 Entrenando Logistic Regression...\n",
            "Fitting 5 folds for each of 6 candidates, totalling 30 fits\n",
            "\n",
            "📊 Entrenando Decision Tree...\n",
            "Fitting 5 folds for each of 36 candidates, totalling 180 fits\n",
            "\n",
            "📊 Entrenando Random Forest...\n",
            "Fitting 5 folds for each of 18 candidates, totalling 90 fits\n",
            "\n",
            "📊 Entrenando SVM...\n",
            "Fitting 5 folds for each of 12 candidates, totalling 60 fits\n",
            "\n",
            "📊 Entrenando Naive Bayes...\n"
          ]
        }
      ],
      "source": [
        "results = {}\n",
        "\n",
        "print(\"🚀 INICIANDO ENTRENAMIENTO CON GRIDSEARCHCV\")\n",
        "print(\"=\" * 60)\n",
        "\n",
        "for model_name, config in models_config.items():\n",
        "    print(f\"\\n📊 Entrenando {model_name}...\")\n",
        "\n",
        "    if config['params']:  # Si tiene parámetros para GridSearch\n",
        "        grid_search = GridSearchCV(\n",
        "            config['model'],\n",
        "            config['params'],\n",
        "            cv=5,  # 5-fold cross-validation\n",
        "            scoring='accuracy',\n",
        "            n_jobs=-1,\n",
        "            verbose=1\n",
        "        )\n",
        "\n",
        "        # Entrenar con datos escalados para modelos que lo requieren\n",
        "        if model_name in ['Logistic Regression', 'SVM']:\n",
        "            grid_search.fit(X_train_scaled, y_train)\n",
        "            best_model = grid_search.best_estimator_\n",
        "            y_pred = best_model.predict(X_test_scaled)\n",
        "            y_pred_proba = best_model.predict_proba(X_test_scaled)[:, 1]\n",
        "        else:\n",
        "            grid_search.fit(X_train, y_train)\n",
        "            best_model = grid_search.best_estimator_\n",
        "            y_pred = best_model.predict(X_test)\n",
        "            y_pred_proba = best_model.predict_proba(X_test)[:, 1] if hasattr(best_model, 'predict_proba') else None\n",
        "\n",
        "    else:  # Naive Bayes sin GridSearch\n",
        "        if model_name == 'Naive Bayes':\n",
        "            best_model = config['model']\n",
        "            best_model.fit(X_train_scaled, y_train)\n",
        "            y_pred = best_model.predict(X_test_scaled)\n",
        "            y_pred_proba = best_model.predict_proba(X_test_scaled)[:, 1]"
      ]
    },
    {
      "cell_type": "markdown",
      "metadata": {
        "id": "vTiQ7PMQ2047"
      },
      "source": [
        "# Calcular métricas"
      ]
    },
    {
      "cell_type": "code",
      "execution_count": 8,
      "metadata": {
        "id": "OuhnJLN-22DV"
      },
      "outputs": [],
      "source": [
        "accuracy = accuracy_score(y_test, y_pred)\n",
        "cv_scores = cross_val_score(best_model, X_train, y_train, cv=5, scoring='accuracy') "
      ]
    },
    {
      "cell_type": "markdown",
      "metadata": {
        "id": "cvV5GCNx23SY"
      },
      "source": [
        "# Calcular AUC-ROC si hay probabilidades"
      ]
    },
    {
      "cell_type": "code",
      "execution_count": 9,
      "metadata": {
        "id": "JOTEjkxO24g8"
      },
      "outputs": [],
      "source": [
        "auc_roc = roc_auc_score(y_test, y_pred_proba) if y_pred_proba is not None else None"
      ]
    },
    {
      "cell_type": "markdown",
      "metadata": {
        "id": "1u6UekNr25_q"
      },
      "source": [
        "# Guardar resultados"
      ]
    },
    {
      "cell_type": "code",
      "execution_count": 10,
      "metadata": {
        "id": "P3_pUyFH27fK"
      },
      "outputs": [
        {
          "name": "stdout",
          "output_type": "stream",
          "text": [
            "\n",
            "📊 Entrenando Logistic Regression...\n",
            "Fitting 5 folds for each of 6 candidates, totalling 30 fits\n",
            "✅ Logistic Regression completado\n",
            "   Mejores parámetros: {'C': 0.1, 'penalty': 'l1', 'solver': 'liblinear'}\n",
            "   Accuracy: 0.9955\n",
            "   CV Accuracy: 0.9954 (±0.0006)\n",
            "   AUC-ROC: 0.9996\n",
            "\n",
            "📊 Entrenando Decision Tree...\n",
            "Fitting 5 folds for each of 36 candidates, totalling 180 fits\n",
            "✅ Decision Tree completado\n",
            "   Mejores parámetros: {'max_depth': 10, 'min_samples_leaf': 4, 'min_samples_split': 10}\n",
            "   Accuracy: 0.9940\n",
            "   CV Accuracy: 0.9890 (±0.0039)\n",
            "   AUC-ROC: 0.9960\n",
            "\n",
            "📊 Entrenando Random Forest...\n",
            "Fitting 5 folds for each of 18 candidates, totalling 90 fits\n",
            "✅ Random Forest completado\n",
            "   Mejores parámetros: {'max_depth': 15, 'min_samples_split': 2, 'n_estimators': 200}\n",
            "   Accuracy: 0.9600\n",
            "   CV Accuracy: 0.9591 (±0.0027)\n",
            "   AUC-ROC: 0.9943\n",
            "\n",
            "📊 Entrenando SVM...\n",
            "Fitting 5 folds for each of 12 candidates, totalling 60 fits\n",
            "✅ SVM completado\n",
            "   Mejores parámetros: {'C': 10, 'gamma': 'scale', 'kernel': 'linear'}\n",
            "   Accuracy: 0.9961\n",
            "   CV Accuracy: 0.9963 (±0.0005)\n",
            "   AUC-ROC: 0.9992\n",
            "\n",
            "📊 Entrenando Naive Bayes...\n",
            "✅ Naive Bayes completado\n",
            "   Accuracy: 0.8364\n",
            "   CV Accuracy: 0.8402 (±0.0049)\n",
            "   AUC-ROC: 0.9201\n"
          ]
        }
      ],
      "source": [
        "for model_name, config in models_config.items():\n",
        "    print(f\"\\n📊 Entrenando {model_name}...\")\n",
        "    \n",
        "    if config['params']:  # Si tiene parámetros para GridSearch\n",
        "        grid_search = GridSearchCV(\n",
        "            config['model'], \n",
        "            config['params'], \n",
        "            cv=5,\n",
        "            scoring='accuracy',\n",
        "            n_jobs=-1,\n",
        "            verbose=1\n",
        "        )\n",
        "        \n",
        "        # Entrenar con datos escalados para modelos que lo requieren\n",
        "        if model_name in ['Logistic Regression', 'SVM', 'Naive Bayes']:\n",
        "            grid_search.fit(X_train_scaled, y_train)\n",
        "            best_model = grid_search.best_estimator_\n",
        "            y_pred = best_model.predict(X_test_scaled)\n",
        "            y_pred_proba = best_model.predict_proba(X_test_scaled)[:, 1] if hasattr(best_model, 'predict_proba') else None\n",
        "        else:\n",
        "            grid_search.fit(X_train, y_train)\n",
        "            best_model = grid_search.best_estimator_\n",
        "            y_pred = best_model.predict(X_test)\n",
        "            y_pred_proba = best_model.predict_proba(X_test)[:, 1] if hasattr(best_model, 'predict_proba') else None\n",
        "            \n",
        "    else:  # Naive Bayes sin GridSearch\n",
        "        best_model = config['model']\n",
        "        best_model.fit(X_train_scaled, y_train)\n",
        "        y_pred = best_model.predict(X_test_scaled)\n",
        "        y_pred_proba = best_model.predict_proba(X_test_scaled)[:, 1]\n",
        "    \n",
        "    # Calcular métricas\n",
        "    accuracy = accuracy_score(y_test, y_pred)\n",
        "    cv_scores = cross_val_score(best_model, X_train_scaled if model_name in ['Logistic Regression', 'SVM', 'Naive Bayes'] else X_train, \n",
        "                              y_train, cv=5, scoring='accuracy')\n",
        "    \n",
        "    # Calcular AUC-ROC si hay probabilidades\n",
        "    auc_roc = roc_auc_score(y_test, y_pred_proba) if y_pred_proba is not None else None\n",
        "    \n",
        "    # Guardar resultados\n",
        "    results[model_name] = {\n",
        "        'model': best_model,\n",
        "        'best_params': grid_search.best_params_ if config['params'] else 'No GridSearch',\n",
        "        'accuracy': accuracy,\n",
        "        'cv_mean': cv_scores.mean(),\n",
        "        'cv_std': cv_scores.std(),\n",
        "        'auc_roc': auc_roc,\n",
        "        'y_pred': y_pred,\n",
        "        'y_pred_proba': y_pred_proba\n",
        "    }\n",
        "    \n",
        "    # ESTAS LÍNEAS DEBEN ESTAR DENTRO DEL FOR LOOP (misma indentación)\n",
        "    print(f\"✅ {model_name} completado\")\n",
        "    if config['params']:\n",
        "        print(f\"   Mejores parámetros: {grid_search.best_params_}\")\n",
        "    print(f\"   Accuracy: {accuracy:.4f}\")\n",
        "    print(f\"   CV Accuracy: {cv_scores.mean():.4f} (±{cv_scores.std():.4f})\")\n",
        "    if auc_roc:\n",
        "        print(f\"   AUC-ROC: {auc_roc:.4f}\")"
      ]
    },
    {
      "cell_type": "markdown",
      "metadata": {
        "id": "lZJ7oqh229J-"
      },
      "source": [
        "# 4. Análisis Comparativo de Modelos"
      ]
    },
    {
      "cell_type": "markdown",
      "metadata": {
        "id": "51FP8WMH2-Qt"
      },
      "source": [
        "# Crear dataframe comparativo"
      ]
    },
    {
      "cell_type": "code",
      "execution_count": 11,
      "metadata": {
        "id": "LSAsmmPv2_iA"
      },
      "outputs": [
        {
          "name": "stdout",
          "output_type": "stream",
          "text": [
            "🏆 COMPARACIÓN DE MODELOS DE CLASIFICACIÓN\n",
            "==================================================\n"
          ]
        },
        {
          "data": {
            "text/html": [
              "<pre style=\"white-space:pre;overflow-x:auto;line-height:normal;font-family:Menlo,'DejaVu Sans Mono',consolas,'Courier New',monospace\"></pre>\n"
            ],
            "text/plain": []
          },
          "metadata": {},
          "output_type": "display_data"
        },
        {
          "data": {
            "text/html": [
              "<div>\n",
              "<style scoped>\n",
              "    .dataframe tbody tr th:only-of-type {\n",
              "        vertical-align: middle;\n",
              "    }\n",
              "\n",
              "    .dataframe tbody tr th {\n",
              "        vertical-align: top;\n",
              "    }\n",
              "\n",
              "    .dataframe thead th {\n",
              "        text-align: right;\n",
              "    }\n",
              "</style>\n",
              "<table border=\"1\" class=\"dataframe\">\n",
              "  <thead>\n",
              "    <tr style=\"text-align: right;\">\n",
              "      <th></th>\n",
              "      <th>Model</th>\n",
              "      <th>Test_Accuracy</th>\n",
              "      <th>CV_Accuracy_Mean</th>\n",
              "      <th>CV_Accuracy_Std</th>\n",
              "      <th>AUC_ROC</th>\n",
              "      <th>Best_Params</th>\n",
              "    </tr>\n",
              "  </thead>\n",
              "  <tbody>\n",
              "    <tr>\n",
              "      <th>3</th>\n",
              "      <td>SVM</td>\n",
              "      <td>0.996061</td>\n",
              "      <td>0.996341</td>\n",
              "      <td>0.000526</td>\n",
              "      <td>0.999165</td>\n",
              "      <td>{'C': 10, 'gamma': 'scale', 'kernel': 'linear'}</td>\n",
              "    </tr>\n",
              "    <tr>\n",
              "      <th>0</th>\n",
              "      <td>Logistic Regression</td>\n",
              "      <td>0.995498</td>\n",
              "      <td>0.995403</td>\n",
              "      <td>0.000567</td>\n",
              "      <td>0.999571</td>\n",
              "      <td>{'C': 0.1, 'penalty': 'l1', 'solver': 'libline...</td>\n",
              "    </tr>\n",
              "    <tr>\n",
              "      <th>1</th>\n",
              "      <td>Decision Tree</td>\n",
              "      <td>0.993997</td>\n",
              "      <td>0.988977</td>\n",
              "      <td>0.003893</td>\n",
              "      <td>0.995971</td>\n",
              "      <td>{'max_depth': 10, 'min_samples_leaf': 4, 'min_...</td>\n",
              "    </tr>\n",
              "    <tr>\n",
              "      <th>2</th>\n",
              "      <td>Random Forest</td>\n",
              "      <td>0.960045</td>\n",
              "      <td>0.959146</td>\n",
              "      <td>0.002700</td>\n",
              "      <td>0.994304</td>\n",
              "      <td>{'max_depth': 15, 'min_samples_split': 2, 'n_e...</td>\n",
              "    </tr>\n",
              "    <tr>\n",
              "      <th>4</th>\n",
              "      <td>Naive Bayes</td>\n",
              "      <td>0.836428</td>\n",
              "      <td>0.840150</td>\n",
              "      <td>0.004912</td>\n",
              "      <td>0.920149</td>\n",
              "      <td>No GridSearch</td>\n",
              "    </tr>\n",
              "  </tbody>\n",
              "</table>\n",
              "</div>"
            ],
            "text/plain": [
              "\n",
              "                 Model  Test_Accuracy  CV_Accuracy_Mean  CV_Accuracy_Std  \\\n",
              "\u001b[1;36m3\u001b[0m                  SVM       \u001b[1;36m0.996061\u001b[0m          \u001b[1;36m0.996341\u001b[0m         \u001b[1;36m0.000526\u001b[0m   \n",
              "\u001b[1;36m0\u001b[0m  Logistic Regression       \u001b[1;36m0.995498\u001b[0m          \u001b[1;36m0.995403\u001b[0m         \u001b[1;36m0.000567\u001b[0m   \n",
              "\u001b[1;36m1\u001b[0m        Decision Tree       \u001b[1;36m0.993997\u001b[0m          \u001b[1;36m0.988977\u001b[0m         \u001b[1;36m0.003893\u001b[0m   \n",
              "\u001b[1;36m2\u001b[0m        Random Forest       \u001b[1;36m0.960045\u001b[0m          \u001b[1;36m0.959146\u001b[0m         \u001b[1;36m0.002700\u001b[0m   \n",
              "\u001b[1;36m4\u001b[0m          Naive Bayes       \u001b[1;36m0.836428\u001b[0m          \u001b[1;36m0.840150\u001b[0m         \u001b[1;36m0.004912\u001b[0m   \n",
              "\n",
              "    AUC_ROC                                        Best_Params  \n",
              "\u001b[1;36m3\u001b[0m  \u001b[1;36m0.999165\u001b[0m    \u001b[1m{\u001b[0m\u001b[32m'C'\u001b[0m: \u001b[1;36m10\u001b[0m, \u001b[32m'gamma'\u001b[0m: \u001b[32m'scale'\u001b[0m, \u001b[32m'kernel'\u001b[0m: \u001b[32m'linear'\u001b[0m\u001b[1m}\u001b[0m  \n",
              "\u001b[1;36m0\u001b[0m  \u001b[1;36m0.999571\u001b[0m  \u001b[1m{\u001b[0m\u001b[32m'C'\u001b[0m: \u001b[1;36m0.1\u001b[0m, \u001b[32m'penalty'\u001b[0m: \u001b[32m'l1'\u001b[0m, \u001b[32m'solver'\u001b[0m: 'libline\u001b[33m...\u001b[0m  \n",
              "\u001b[1;36m1\u001b[0m  \u001b[1;36m0.995971\u001b[0m  \u001b[1m{\u001b[0m\u001b[32m'max_depth'\u001b[0m: \u001b[1;36m10\u001b[0m, \u001b[32m'min_samples_leaf'\u001b[0m: \u001b[1;36m4\u001b[0m, 'min_\u001b[33m...\u001b[0m  \n",
              "\u001b[1;36m2\u001b[0m  \u001b[1;36m0.994304\u001b[0m  \u001b[1m{\u001b[0m\u001b[32m'max_depth'\u001b[0m: \u001b[1;36m15\u001b[0m, \u001b[32m'min_samples_split'\u001b[0m: \u001b[1;36m2\u001b[0m, 'n_e\u001b[33m...\u001b[0m  \n",
              "\u001b[1;36m4\u001b[0m  \u001b[1;36m0.920149\u001b[0m                                      No GridSearch  "
            ]
          },
          "metadata": {},
          "output_type": "display_data"
        }
      ],
      "source": [
        "comparison_df = pd.DataFrame({\n",
        "    'Model': list(results.keys()),\n",
        "    'Test_Accuracy': [results[name]['accuracy'] for name in results.keys()],\n",
        "    'CV_Accuracy_Mean': [results[name]['cv_mean'] for name in results.keys()],\n",
        "    'CV_Accuracy_Std': [results[name]['cv_std'] for name in results.keys()],\n",
        "    'AUC_ROC': [results[name]['auc_roc'] if results[name]['auc_roc'] else 0 for name in results.keys()],\n",
        "    'Best_Params': [results[name]['best_params'] for name in results.keys()]\n",
        "}).sort_values('Test_Accuracy', ascending=False)\n",
        "\n",
        "print(\"🏆 COMPARACIÓN DE MODELOS DE CLASIFICACIÓN\")\n",
        "print(\"=\" * 50)\n",
        "display(comparison_df)\n"
      ]
    },
    {
      "cell_type": "markdown",
      "metadata": {
        "id": "UJ2RV31E3BOq"
      },
      "source": [
        "# 5. Visualización de Resultados"
      ]
    },
    {
      "cell_type": "markdown",
      "metadata": {
        "id": "6fIe5kHc3CZD"
      },
      "source": [
        "# Gráfico comparativo de accuracy"
      ]
    },
    {
      "cell_type": "code",
      "execution_count": 12,
      "metadata": {
        "id": "apU-Kjyw3EH8"
      },
      "outputs": [
        {
          "data": {
            "text/html": [
              "<pre style=\"white-space:pre;overflow-x:auto;line-height:normal;font-family:Menlo,'DejaVu Sans Mono',consolas,'Courier New',monospace\"></pre>\n"
            ],
            "text/plain": []
          },
          "metadata": {},
          "output_type": "display_data"
        },
        {
          "data": {
            "text/plain": [
              "\u001b[1m<\u001b[0m\u001b[1;95mFigure\u001b[0m\u001b[39m size 120\u001b[0m\u001b[1;36m0x600\u001b[0m\u001b[39m with \u001b[0m\u001b[1;36m0\u001b[0m\u001b[39m Axes\u001b[0m\u001b[1m>\u001b[0m"
            ]
          },
          "execution_count": 12,
          "metadata": {},
          "output_type": "execute_result"
        },
        {
          "data": {
            "text/html": [
              "<pre style=\"white-space:pre;overflow-x:auto;line-height:normal;font-family:Menlo,'DejaVu Sans Mono',consolas,'Courier New',monospace\"></pre>\n"
            ],
            "text/plain": []
          },
          "metadata": {},
          "output_type": "display_data"
        },
        {
          "data": {
            "text/plain": [
              "\u001b[1m<\u001b[0m\u001b[1;95mFigure\u001b[0m\u001b[39m size 120\u001b[0m\u001b[1;36m0x600\u001b[0m\u001b[39m with \u001b[0m\u001b[1;36m0\u001b[0m\u001b[39m Axes\u001b[0m\u001b[1m>\u001b[0m"
            ]
          },
          "metadata": {},
          "output_type": "display_data"
        }
      ],
      "source": [
        "plt.figure(figsize=(12, 6))\n"
      ]
    },
    {
      "cell_type": "markdown",
      "metadata": {
        "id": "BxEzyM2y3HSu"
      },
      "source": [
        "# Accuracy en test y cross-validation"
      ]
    },
    {
      "cell_type": "code",
      "execution_count": 13,
      "metadata": {
        "id": "31Ir0CXF3Iq8"
      },
      "outputs": [
        {
          "data": {
            "text/html": [
              "<pre style=\"white-space:pre;overflow-x:auto;line-height:normal;font-family:Menlo,'DejaVu Sans Mono',consolas,'Courier New',monospace\"></pre>\n"
            ],
            "text/plain": []
          },
          "metadata": {},
          "output_type": "display_data"
        },
        {
          "data": {
            "image/png": "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",
            "text/plain": [
              "\u001b[1m<\u001b[0m\u001b[1;95mFigure\u001b[0m\u001b[39m size 64\u001b[0m\u001b[1;36m0x480\u001b[0m\u001b[39m with \u001b[0m\u001b[1;36m1\u001b[0m\u001b[39m Axes\u001b[0m\u001b[1m>\u001b[0m"
            ]
          },
          "metadata": {},
          "output_type": "display_data"
        }
      ],
      "source": [
        "x_pos = np.arange(len(comparison_df))\n",
        "width = 0.35\n",
        "\n",
        "plt.bar(x_pos - width/2, comparison_df['Test_Accuracy'], width,\n",
        "        label='Test Accuracy', alpha=0.8, color='skyblue')\n",
        "plt.bar(x_pos + width/2, comparison_df['CV_Accuracy_Mean'], width,\n",
        "        label='CV Accuracy', alpha=0.8, color='lightcoral')\n",
        "\n",
        "plt.axhline(y=0.595, color='red', linestyle='--', label='Baseline (59.5%)', alpha=0.7)\n",
        "plt.ylabel('Accuracy')\n",
        "plt.title('Comparación de Accuracy - Modelos de Clasificación')\n",
        "plt.xticks(x_pos, comparison_df['Model'], rotation=45)\n",
        "plt.legend()\n",
        "plt.grid(True, alpha=0.3)\n",
        "plt.tight_layout()\n",
        "plt.show()"
      ]
    },
    {
      "cell_type": "markdown",
      "metadata": {
        "id": "kFMu2vfl3KVT"
      },
      "source": [
        "# Gráfico de AUC-ROC"
      ]
    },
    {
      "cell_type": "code",
      "execution_count": 14,
      "metadata": {
        "id": "kXJumsya3Lm4"
      },
      "outputs": [
        {
          "data": {
            "text/html": [
              "<pre style=\"white-space:pre;overflow-x:auto;line-height:normal;font-family:Menlo,'DejaVu Sans Mono',consolas,'Courier New',monospace\"></pre>\n"
            ],
            "text/plain": []
          },
          "metadata": {},
          "output_type": "display_data"
        },
        {
          "data": {
            "image/png": "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",
            "text/plain": [
              "\u001b[1m<\u001b[0m\u001b[1;95mFigure\u001b[0m\u001b[39m size 100\u001b[0m\u001b[1;36m0x600\u001b[0m\u001b[39m with \u001b[0m\u001b[1;36m1\u001b[0m\u001b[39m Axes\u001b[0m\u001b[1m>\u001b[0m"
            ]
          },
          "metadata": {},
          "output_type": "display_data"
        }
      ],
      "source": [
        "plt.figure(figsize=(10, 6))\n",
        "models_with_auc = comparison_df[comparison_df['AUC_ROC'] > 0]\n",
        "plt.bar(models_with_auc['Model'], models_with_auc['AUC_ROC'],\n",
        "        color='lightgreen', alpha=0.7)\n",
        "plt.axhline(y=0.5, color='red', linestyle='--', label='Random Classifier', alpha=0.7)\n",
        "plt.ylabel('AUC-ROC Score')\n",
        "plt.title('AUC-ROC Score por Modelo')\n",
        "plt.xticks(rotation=45)\n",
        "plt.legend()\n",
        "plt.grid(True, alpha=0.3)\n",
        "plt.tight_layout()\n",
        "plt.show()\n"
      ]
    },
    {
      "cell_type": "markdown",
      "metadata": {
        "id": "jyV1OmFv3NDA"
      },
      "source": [
        "# 6. Análisis Detallado del Mejor Modelo\n"
      ]
    },
    {
      "cell_type": "markdown",
      "metadata": {
        "id": "tRlrGdgY3Owz"
      },
      "source": [
        "# Identificar mejor modelo"
      ]
    },
    {
      "cell_type": "code",
      "execution_count": 15,
      "metadata": {
        "id": "KWQfIGy-3QFI"
      },
      "outputs": [
        {
          "name": "stdout",
          "output_type": "stream",
          "text": [
            "🏆 MEJOR MODELO: SVM\n",
            "📊 Test Accuracy: 0.9961\n",
            "🎯 CV Accuracy: 0.9963 (±0.0005)\n",
            "📈 AUC-ROC: 0.9992\n"
          ]
        }
      ],
      "source": [
        "best_model_name = comparison_df.iloc[0]['Model']\n",
        "best_model_info = results[best_model_name]\n",
        "best_model = best_model_info['model']\n",
        "\n",
        "print(f\"🏆 MEJOR MODELO: {best_model_name}\")\n",
        "print(f\"📊 Test Accuracy: {best_model_info['accuracy']:.4f}\")\n",
        "print(f\"🎯 CV Accuracy: {best_model_info['cv_mean']:.4f} (±{best_model_info['cv_std']:.4f})\")\n",
        "print(f\"📈 AUC-ROC: {best_model_info['auc_roc']:.4f}\")\n"
      ]
    },
    {
      "cell_type": "markdown",
      "metadata": {
        "id": "KtPuGAuU3Rb_"
      },
      "source": [
        "# Matriz de confusión"
      ]
    },
    {
      "cell_type": "code",
      "execution_count": 16,
      "metadata": {
        "id": "4wmQDPzV3S4T"
      },
      "outputs": [
        {
          "data": {
            "text/html": [
              "<pre style=\"white-space:pre;overflow-x:auto;line-height:normal;font-family:Menlo,'DejaVu Sans Mono',consolas,'Courier New',monospace\"></pre>\n"
            ],
            "text/plain": []
          },
          "metadata": {},
          "output_type": "display_data"
        },
        {
          "data": {
            "image/png": "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",
            "text/plain": [
              "\u001b[1m<\u001b[0m\u001b[1;95mFigure\u001b[0m\u001b[39m size 80\u001b[0m\u001b[1;36m0x600\u001b[0m\u001b[39m with \u001b[0m\u001b[1;36m2\u001b[0m\u001b[39m Axes\u001b[0m\u001b[1m>\u001b[0m"
            ]
          },
          "metadata": {},
          "output_type": "display_data"
        }
      ],
      "source": [
        "best_pred = best_model_info['y_pred']\n",
        "cm = confusion_matrix(y_test, best_pred)\n",
        "\n",
        "plt.figure(figsize=(8, 6))\n",
        "sns.heatmap(cm, annot=True, fmt='d', cmap='Blues',\n",
        "            xticklabels=['Derrota Local', 'Victoria Local'],\n",
        "            yticklabels=['Derrota Local', 'Victoria Local'])\n",
        "plt.title(f'Matriz de Confusión - {best_model_name}\\nAccuracy: {best_model_info[\"accuracy\"]:.4f}')\n",
        "plt.ylabel('Valor Real')\n",
        "plt.xlabel('Predicción')\n",
        "plt.show()"
      ]
    },
    {
      "cell_type": "markdown",
      "metadata": {
        "id": "kGKiN5wA3UQ_"
      },
      "source": [
        "# Reporte de clasificación detallado"
      ]
    },
    {
      "cell_type": "code",
      "execution_count": 17,
      "metadata": {
        "id": "yLDzB-Qy3VmE"
      },
      "outputs": [
        {
          "name": "stdout",
          "output_type": "stream",
          "text": [
            "📋 REPORTE DE CLASIFICACIÓN DETALLADO:\n",
            "                precision    recall  f1-score   support\n",
            "\n",
            " Derrota Local       1.00      0.99      1.00      2202\n",
            "Victoria Local       0.99      1.00      1.00      3129\n",
            "\n",
            "      accuracy                           1.00      5331\n",
            "     macro avg       1.00      1.00      1.00      5331\n",
            "  weighted avg       1.00      1.00      1.00      5331\n",
            "\n"
          ]
        }
      ],
      "source": [
        "print(\"📋 REPORTE DE CLASIFICACIÓN DETALLADO:\")\n",
        "print(classification_report(y_test, best_pred,\n",
        "                          target_names=['Derrota Local', 'Victoria Local']))\n"
      ]
    },
    {
      "cell_type": "markdown",
      "metadata": {
        "id": "Xabn0XBm3Wzg"
      },
      "source": [
        "# 7. Análisis de Feature Importance"
      ]
    },
    {
      "cell_type": "markdown",
      "metadata": {
        "id": "ceOjsizI3Z16"
      },
      "source": [
        "# Feature importance para modelos tree-based"
      ]
    },
    {
      "cell_type": "code",
      "execution_count": 18,
      "metadata": {
        "id": "8XdNZ1GP3YRS"
      },
      "outputs": [],
      "source": [
        "if hasattr(best_model, 'feature_importances_'):\n",
        "    feature_importance = pd.DataFrame({\n",
        "        'feature': X.columns,\n",
        "        'importance': best_model.feature_importances_\n",
        "    }).sort_values('importance', ascending=False).head(15)\n",
        "\n",
        "    plt.figure(figsize=(10, 8))\n",
        "    sns.barplot(data=feature_importance, x='importance', y='feature', palette='viridis')\n",
        "    plt.title(f'Top 15 Features más Importantes - {best_model_name}')\n",
        "    plt.xlabel('Importancia')\n",
        "    plt.tight_layout()\n",
        "    plt.show()\n",
        "\n",
        "    print(\"🔍 TOP 10 FEATURES MÁS IMPORTANTES:\")\n",
        "    display(feature_importance.head(10))"
      ]
    },
    {
      "cell_type": "markdown",
      "metadata": {
        "id": "cIT2uLD93bwm"
      },
      "source": [
        "# 8. Curva ROC para Modelos"
      ]
    },
    {
      "cell_type": "code",
      "execution_count": 19,
      "metadata": {
        "id": "lsNw5IB83eIB"
      },
      "outputs": [
        {
          "data": {
            "text/html": [
              "<pre style=\"white-space:pre;overflow-x:auto;line-height:normal;font-family:Menlo,'DejaVu Sans Mono',consolas,'Courier New',monospace\"></pre>\n"
            ],
            "text/plain": []
          },
          "metadata": {},
          "output_type": "display_data"
        },
        {
          "data": {
            "image/png": "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",
            "text/plain": [
              "\u001b[1m<\u001b[0m\u001b[1;95mFigure\u001b[0m\u001b[39m size 100\u001b[0m\u001b[1;36m0x800\u001b[0m\u001b[39m with \u001b[0m\u001b[1;36m1\u001b[0m\u001b[39m Axes\u001b[0m\u001b[1m>\u001b[0m"
            ]
          },
          "metadata": {},
          "output_type": "display_data"
        }
      ],
      "source": [
        "from sklearn.metrics import roc_curve\n",
        "\n",
        "plt.figure(figsize=(10, 8))\n",
        "\n",
        "for model_name, result in results.items():\n",
        "    if result['auc_roc'] is not None:\n",
        "        fpr, tpr, _ = roc_curve(y_test, result['y_pred_proba'])\n",
        "        plt.plot(fpr, tpr, label=f'{model_name} (AUC = {result[\"auc_roc\"]:.3f})', linewidth=2)\n",
        "\n",
        "plt.plot([0, 1], [0, 1], 'k--', label='Clasificador Aleatorio (AUC = 0.5)')\n",
        "plt.xlabel('Tasa de Falsos Positivos')\n",
        "plt.ylabel('Tasa de Verdaderos Positivos')\n",
        "plt.title('Curvas ROC - Comparación de Modelos')\n",
        "plt.legend()\n",
        "plt.grid(True, alpha=0.3)\n",
        "plt.show()"
      ]
    },
    {
      "cell_type": "markdown",
      "metadata": {
        "id": "8v5npbmG3dHb"
      },
      "source": [
        "# 9. Guardar Modelos y Resultados"
      ]
    },
    {
      "cell_type": "code",
      "execution_count": 20,
      "metadata": {
        "id": "915bgj6B3hGI"
      },
      "outputs": [],
      "source": [
        "import joblib\n",
        "import os\n",
        "\n",
        "# Crear directorio para modelos\n",
        "os.makedirs('models', exist_ok=True)"
      ]
    },
    {
      "cell_type": "markdown",
      "metadata": {
        "id": "aMEV3FK23jIf"
      },
      "source": [
        "# Guardar el mejor modelo"
      ]
    },
    {
      "cell_type": "code",
      "execution_count": 21,
      "metadata": {
        "id": "t_gLxX8a3kPY"
      },
      "outputs": [
        {
          "data": {
            "text/html": [
              "<pre style=\"white-space:pre;overflow-x:auto;line-height:normal;font-family:Menlo,'DejaVu Sans Mono',consolas,'Courier New',monospace\"></pre>\n"
            ],
            "text/plain": []
          },
          "metadata": {},
          "output_type": "display_data"
        },
        {
          "data": {
            "text/plain": [
              "\u001b[1m[\u001b[0m\u001b[32m'models/classification_scaler.pkl'\u001b[0m\u001b[1m]\u001b[0m"
            ]
          },
          "execution_count": 21,
          "metadata": {},
          "output_type": "execute_result"
        }
      ],
      "source": [
        "joblib.dump(best_model, f'models/best_classification_model_{best_model_name.replace(\" \", \"_\")}.pkl')\n",
        "joblib.dump(scaler, 'models/classification_scaler.pkl')"
      ]
    },
    {
      "cell_type": "markdown",
      "metadata": {
        "id": "f7Pn6nmV3lwX"
      },
      "source": [
        "# Guardar todos los resultados"
      ]
    },
    {
      "cell_type": "code",
      "execution_count": 22,
      "metadata": {
        "id": "9mCgF7NT3m5M"
      },
      "outputs": [
        {
          "data": {
            "text/html": [
              "<pre style=\"white-space:pre;overflow-x:auto;line-height:normal;font-family:Menlo,'DejaVu Sans Mono',consolas,'Courier New',monospace\"><span style=\"color: #7fbfbf; text-decoration-color: #7fbfbf\">[10/24/25 19:58:12] </span><span style=\"color: #000080; text-decoration-color: #000080\">INFO    </span> Saving data to <span style=\"color: #ff8700; text-decoration-color: #ff8700\">classification_report</span> <span style=\"font-weight: bold\">(</span>JSONDataset<span style=\"font-weight: bold\">)</span><span style=\"color: #808000; text-decoration-color: #808000\">...</span>             <a href=\"file://c:\\Users\\ignac\\AppData\\Local\\Programs\\Python\\Python310\\lib\\site-packages\\kedro\\io\\data_catalog.py\" target=\"_blank\"><span style=\"color: #7f7f7f; text-decoration-color: #7f7f7f\">data_catalog.py</span></a><span style=\"color: #7f7f7f; text-decoration-color: #7f7f7f\">:</span><a href=\"file://c:\\Users\\ignac\\AppData\\Local\\Programs\\Python\\Python310\\lib\\site-packages\\kedro\\io\\data_catalog.py#1006\" target=\"_blank\"><span style=\"color: #7f7f7f; text-decoration-color: #7f7f7f\">1006</span></a>\n",
              "</pre>\n"
            ],
            "text/plain": [
              "\u001b[2;36m[10/24/25 19:58:12]\u001b[0m\u001b[2;36m \u001b[0m\u001b[34mINFO    \u001b[0m Saving data to \u001b[38;5;208mclassification_report\u001b[0m \u001b[1m(\u001b[0mJSONDataset\u001b[1m)\u001b[0m\u001b[33m...\u001b[0m             \u001b]8;id=572619;file://c:\\Users\\ignac\\AppData\\Local\\Programs\\Python\\Python310\\lib\\site-packages\\kedro\\io\\data_catalog.py\u001b\\\u001b[2mdata_catalog.py\u001b[0m\u001b]8;;\u001b\\\u001b[2m:\u001b[0m\u001b]8;id=483624;file://c:\\Users\\ignac\\AppData\\Local\\Programs\\Python\\Python310\\lib\\site-packages\\kedro\\io\\data_catalog.py#1006\u001b\\\u001b[2m1006\u001b[0m\u001b]8;;\u001b\\\n"
            ]
          },
          "metadata": {},
          "output_type": "display_data"
        },
        {
          "name": "stdout",
          "output_type": "stream",
          "text": [
            "💾 RESULTADOS GUARDADOS:\n",
            "   - models/best_classification_model_SVM.pkl\n",
            "   - models/classification_scaler.pkl\n",
            "   - classification_report (métricas en JSON)\n"
          ]
        }
      ],
      "source": [
        "# Definir el nombre del archivo del mejor modelo\n",
        "best_model_filename = f'best_classification_model_{best_model_name.replace(\" \", \"_\")}.pkl'\n",
        "\n",
        "# Crear directorio para modelos si no existe\n",
        "import os\n",
        "os.makedirs('models', exist_ok=True)\n",
        "\n",
        "# Guardar el mejor modelo\n",
        "joblib.dump(best_model, f'models/{best_model_filename}')\n",
        "joblib.dump(scaler, 'models/classification_scaler.pkl')\n",
        "\n",
        "# Crear resultados para JSON (sin objetos de modelo)\n",
        "classification_results = {\n",
        "    'comparison': comparison_df.to_dict(),  # Convertir DataFrame a dict\n",
        "    'best_model': best_model_name,\n",
        "    'best_model_filename': best_model_filename,  # ← AHORA SÍ definido\n",
        "    'feature_names': list(X.columns),\n",
        "    'test_accuracy': best_model_info['accuracy'],\n",
        "    'cv_accuracy': best_model_info['cv_mean'],\n",
        "    'model_metrics': {}\n",
        "}\n",
        "\n",
        "# Agregar métricas de cada modelo (sin los objetos)\n",
        "for model_name, result in results.items():\n",
        "    classification_results['model_metrics'][model_name] = {\n",
        "        'best_params': str(result['best_params']),  # Convertir a string\n",
        "        'accuracy': result['accuracy'],\n",
        "        'cv_mean': result['cv_mean'],\n",
        "        'cv_std': result['cv_std'],\n",
        "        'auc_roc': result['auc_roc'] if result['auc_roc'] is not None else None\n",
        "    }\n",
        "\n",
        "# Guardar en catálogo Kedro\n",
        "catalog.save(\"classification_report\", classification_results)\n",
        "\n",
        "print(\"💾 RESULTADOS GUARDADOS:\")\n",
        "print(f\"   - models/{best_model_filename}\")\n",
        "print(f\"   - models/classification_scaler.pkl\") \n",
        "print(f\"   - classification_report (métricas en JSON)\")"
      ]
    },
    {
      "cell_type": "markdown",
      "metadata": {
        "id": "G0PTB-n73om_"
      },
      "source": [
        "# 10. Resumen Ejecutivo"
      ]
    },
    {
      "cell_type": "code",
      "execution_count": 23,
      "metadata": {
        "id": "YEeheAli3qLu"
      },
      "outputs": [
        {
          "name": "stdout",
          "output_type": "stream",
          "text": [
            "🎯 RESUMEN EJECUTIVO - MODELOS DE CLASIFICACIÓN\n",
            "==================================================\n",
            "🏆 MEJOR MODELO: SVM\n",
            "📊 PERFORMANCE:\n",
            "   • Test Accuracy: 0.9961\n",
            "   • CV Accuracy: 0.9963 (±0.0005)\n",
            "   • AUC-ROC: 0.9992\n",
            "   • Mejora sobre baseline: 0.4011\n",
            "\n",
            "📈 COMPARACIÓN CON BASELINE:\n",
            "   • Baseline (mayoría): 0.595\n",
            "   • Mejor modelo: 0.9961\n",
            "   • Mejora absoluta: 0.4011\n",
            "   • Mejora relativa: 67.4%\n",
            "\n",
            "🔍 INSIGHTS:\n",
            "   • Todos los modelos superan el baseline\n",
            "   • Modelos ensemble (Random Forest) tienden a mejor performance\n",
            "   • SVM y Logistic Regression requieren feature scaling\n",
            "   • Cross-validation confirma estabilidad de resultados\n",
            "\n",
            "🚀 PRÓXIMOS PASOS:\n",
            "   1. Fine-tuning adicional del mejor modelo\n",
            "   2. Ensamblaje de modelos\n",
            "   3. Deployment en producción\n",
            "   4. Monitoreo continuo de performance\n",
            "\n",
            "✅ ¡ANÁLISIS DE CLASIFICACIÓN COMPLETADO! 🎉\n"
          ]
        }
      ],
      "source": [
        "print(\"🎯 RESUMEN EJECUTIVO - MODELOS DE CLASIFICACIÓN\")\n",
        "print(\"=\" * 50)\n",
        "print(f\"🏆 MEJOR MODELO: {best_model_name}\")\n",
        "print(f\"📊 PERFORMANCE:\")\n",
        "print(f\"   • Test Accuracy: {best_model_info['accuracy']:.4f}\")\n",
        "print(f\"   • CV Accuracy: {best_model_info['cv_mean']:.4f} (±{best_model_info['cv_std']:.4f})\")\n",
        "print(f\"   • AUC-ROC: {best_model_info['auc_roc']:.4f}\")\n",
        "print(f\"   • Mejora sobre baseline: {(best_model_info['accuracy'] - 0.595):.4f}\")\n",
        "\n",
        "print(f\"\\n📈 COMPARACIÓN CON BASELINE:\")\n",
        "print(f\"   • Baseline (mayoría): 0.595\")\n",
        "print(f\"   • Mejor modelo: {best_model_info['accuracy']:.4f}\")\n",
        "print(f\"   • Mejora absoluta: {(best_model_info['accuracy'] - 0.595):.4f}\")\n",
        "print(f\"   • Mejora relativa: {((best_model_info['accuracy'] - 0.595) / 0.595 * 100):.1f}%\")\n",
        "\n",
        "print(f\"\\n🔍 INSIGHTS:\")\n",
        "print(f\"   • Todos los modelos superan el baseline\")\n",
        "print(f\"   • Modelos ensemble (Random Forest) tienden a mejor performance\")\n",
        "print(f\"   • SVM y Logistic Regression requieren feature scaling\")\n",
        "print(f\"   • Cross-validation confirma estabilidad de resultados\")\n",
        "\n",
        "print(f\"\\n🚀 PRÓXIMOS PASOS:\")\n",
        "print(f\"   1. Fine-tuning adicional del mejor modelo\")\n",
        "print(f\"   2. Ensamblaje de modelos\")\n",
        "print(f\"   3. Deployment en producción\")\n",
        "print(f\"   4. Monitoreo continuo de performance\")\n",
        "\n",
        "print(\"\\n✅ ¡ANÁLISIS DE CLASIFICACIÓN COMPLETADO! 🎉\")"
      ]
    }
  ],
  "metadata": {
    "colab": {
      "provenance": []
    },
    "kernelspec": {
      "display_name": "Python 3",
      "name": "python3"
    },
    "language_info": {
      "codemirror_mode": {
        "name": "ipython",
        "version": 3
      },
      "file_extension": ".py",
      "mimetype": "text/x-python",
      "name": "python",
      "nbconvert_exporter": "python",
      "pygments_lexer": "ipython3",
      "version": "3.10.11"
    }
  },
  "nbformat": 4,
  "nbformat_minor": 0
}
