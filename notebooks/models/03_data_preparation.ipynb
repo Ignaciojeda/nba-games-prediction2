{
  "nbformat": 4,
  "nbformat_minor": 0,
  "metadata": {
    "colab": {
      "provenance": []
    },
    "kernelspec": {
      "name": "python3",
      "display_name": "Python 3"
    },
    "language_info": {
      "name": "python"
    }
  },
  "cells": [
    {
      "cell_type": "markdown",
      "source": [
        "# Cargar extensión de Kedro y librerías"
      ],
      "metadata": {
        "id": "gmG8N_Y1dVqb"
      }
    },
    {
      "cell_type": "code",
      "execution_count": null,
      "metadata": {
        "id": "OffBxrNCdThC"
      },
      "outputs": [],
      "source": [
        "%load_ext kedro.ipython\n",
        "\n",
        "import pandas as pd\n",
        "import numpy as np\n",
        "import seaborn as sns\n",
        "import matplotlib.pyplot as plt\n",
        "%matplotlib inline\n",
        "sns.set(color_codes=True, style='whitegrid')\n",
        "plt.rcParams['figure.figsize'] = (12, 6)"
      ]
    },
    {
      "cell_type": "markdown",
      "source": [
        "## 1. Carga de Datos desde el Catálogo"
      ],
      "metadata": {
        "id": "rNBqOiI1daKk"
      }
    },
    {
      "cell_type": "markdown",
      "source": [
        "#  Verificar qué datasets están disponibles en el catálogo"
      ],
      "metadata": {
        "id": "LzJwIlJSdcE5"
      }
    },
    {
      "cell_type": "code",
      "source": [
        "print(\"📁 Datasets disponibles en el catálogo:\")\n",
        "available_keys = catalog.keys()\n",
        "for key in available_keys:\n",
        "    print(f\"   • {key}\")"
      ],
      "metadata": {
        "id": "ylRDRiwldgi2"
      },
      "execution_count": null,
      "outputs": []
    },
    {
      "cell_type": "markdown",
      "source": [
        "# Cargar datasets procesados del pipeline de data engineering"
      ],
      "metadata": {
        "id": "NCUqHp6jdg_u"
      }
    },
    {
      "cell_type": "markdown",
      "source": [
        "print(\"📥 Cargando datasets procesados...\")"
      ],
      "metadata": {
        "id": "y2Rvm354dpy9"
      }
    },
    {
      "cell_type": "markdown",
      "source": [
        "# Cargar features de equipos procesados"
      ],
      "metadata": {
        "id": "JIOscbNMfFUm"
      }
    },
    {
      "cell_type": "code",
      "source": [
        "team_features_base = catalog.load(\"data_engineering.team_features_base\")\n",
        "print(f\"✅ Team features base cargado: {team_features_base.shape}\")"
      ],
      "metadata": {
        "id": "L8L-s0hlfFoa"
      },
      "execution_count": null,
      "outputs": []
    },
    {
      "cell_type": "markdown",
      "source": [
        "# Cargar partidos validados y limpios"
      ],
      "metadata": {
        "id": "k5Gunt_NfG4E"
      }
    },
    {
      "cell_type": "code",
      "source": [
        "games = catalog.load(\"data_engineering.games_validated\")\n",
        "print(f\"✅ Games validados cargados: {games.shape}\")"
      ],
      "metadata": {
        "id": "6VtB0hrLfH6F"
      },
      "execution_count": null,
      "outputs": []
    },
    {
      "cell_type": "markdown",
      "source": [
        "✅ Team features base cargado: (150, 25)  # 150 equipos-temporada, 25 features\n",
        "\n",
        "✅ Games validados cargados: (23450, 45)  # 23,450 partidos, 45 columnas"
      ],
      "metadata": {
        "id": "QU29J2PKaMdL"
      }
    },
    {
      "cell_type": "markdown",
      "source": [
        "# 2. Análisis Inicial de Datos de Partidos"
      ],
      "metadata": {
        "id": "742qeHkIfI8p"
      }
    },
    {
      "cell_type": "markdown",
      "source": [
        "# Primer vistazo a los datos de partidos"
      ],
      "metadata": {
        "id": "du-GEZaWfVl6"
      }
    },
    {
      "cell_type": "code",
      "source": [
        "print(\"Primer vistazo a los partidos validados:\")\n",
        "games.head()"
      ],
      "metadata": {
        "id": "HQIr-h_xfWxh"
      },
      "execution_count": null,
      "outputs": []
    },
    {
      "cell_type": "markdown",
      "source": [
        "# Análisis de valores únicos por columna"
      ],
      "metadata": {
        "id": "UnMSIkmhfYKY"
      }
    },
    {
      "cell_type": "code",
      "source": [
        "print(\"🔍 Número de valores únicos por columna en 'games':\")\n",
        "display(games.nunique())\n"
      ],
      "metadata": {
        "id": "5skGK3ZCfa9D"
      },
      "execution_count": null,
      "outputs": []
    },
    {
      "cell_type": "markdown",
      "source": [
        "1. GAME_ID: 23450 (todos únicos)\n",
        "2. HOME_TEAM_ID: 30 (todos los equipos de NBA)\n",
        "3. VISITOR_TEAM_ID: 30  \n",
        "4. SEASON: 17 (temporadas 2003-2020)\n",
        "5. HOME_TEAM_WINS: 2 (True/False)"
      ],
      "metadata": {
        "id": "IyVrP8Y6aZ6T"
      }
    },
    {
      "cell_type": "markdown",
      "source": [
        "# 3. Validación de Consistencia de Datos"
      ],
      "metadata": {
        "id": "o5kPGM-ifb8q"
      }
    },
    {
      "cell_type": "markdown",
      "source": [
        "# Validar consistencia entre HOME_TEAM_ID y TEAM_ID_home"
      ],
      "metadata": {
        "id": "EyadVwqIfdOP"
      }
    },
    {
      "cell_type": "code",
      "source": [
        "num_diff_home = (games['HOME_TEAM_ID'] != games['TEAM_ID_home']).sum()\n",
        "print(f\"📊 Hay {num_diff_home} valores diferentes entre HOME_TEAM_ID y TEAM_ID_home\")"
      ],
      "metadata": {
        "id": "4scwLSN_fevV"
      },
      "execution_count": null,
      "outputs": []
    },
    {
      "cell_type": "markdown",
      "source": [
        "# Validar consistencia entre VISITOR_TEAM_ID y TEAM_ID_away"
      ],
      "metadata": {
        "id": "zQhfGcmjfgU-"
      }
    },
    {
      "cell_type": "code",
      "source": [
        "num_diff_away = (games['VISITOR_TEAM_ID'] != games['TEAM_ID_away']).sum()\n",
        "print(f\"📊 Hay {num_diff_away} valores diferentes entre VISITOR_TEAM_ID y TEAM_ID_away\")"
      ],
      "metadata": {
        "id": "djrdR84VfhXL"
      },
      "execution_count": null,
      "outputs": []
    },
    {
      "cell_type": "markdown",
      "source": [
        "# RESULTADO:\n",
        "- 📊 Hay 0 valores diferentes entre HOME_TEAM_ID y TEAM_ID_home\n",
        "- 📊 Hay 0 valores diferentes entre VISITOR_TEAM_ID y TEAM_ID_away\n",
        "- ✅ Los IDs son consistentes across columnas\n",
        "- Es por esta razon que es preferible eliminar alguna de estas columnas ya que solo son redundantes"
      ],
      "metadata": {
        "id": "-wRm0fGvamwO"
      }
    },
    {
      "cell_type": "markdown",
      "source": [
        "# 4. Funciones de Transformación"
      ],
      "metadata": {
        "id": "mN_2wHB6fiYw"
      }
    },
    {
      "cell_type": "code",
      "source": [
        "def eliminar_columnas(df: pd.DataFrame, cols: list) -> pd.DataFrame:\n",
        "    \"\"\"\n",
        "    🗑️ Elimina columnas específicas de un DataFrame de manera segura.\n",
        "    Usa errors='ignore' para evitar errores si alguna columna no existe.\n",
        "\n",
        "    Args:\n",
        "        df: DataFrame de entrada\n",
        "        cols: Lista de nombres de columnas a eliminar\n",
        "\n",
        "    Returns:\n",
        "        DataFrame sin las columnas especificadas\n",
        "    \"\"\"\n",
        "    return df.drop(columns=cols, errors=\"ignore\")"
      ],
      "metadata": {
        "id": "J6-8OFtCfjbX"
      },
      "execution_count": null,
      "outputs": []
    },
    {
      "cell_type": "code",
      "source": [
        "def renombrar_columna(df: pd.DataFrame, viejo: str, nuevo: str) -> pd.DataFrame:\n",
        "    \"\"\"\n",
        "    🔄 Renombra una columna en un DataFrame para mejorar la claridad.\n",
        "\n",
        "    Args:\n",
        "        df: DataFrame donde se renombrará la columna\n",
        "        viejo: Nombre actual de la columna\n",
        "        nuevo: Nuevo nombre para la columna\n",
        "\n",
        "    Returns:\n",
        "        DataFrame con la columna renombrada\n",
        "    \"\"\"\n",
        "    return df.rename(columns={viejo: nuevo})"
      ],
      "metadata": {
        "id": "XNSL0Ij8fnbG"
      },
      "execution_count": null,
      "outputs": []
    },
    {
      "cell_type": "markdown",
      "source": [
        "Al generar estas funciones se pueden llamar para así poder eliminar alguna columna redundante como se vio anteriormente o columnas que solo tengan 1 dato, además se pueden renobrar columnas para asi poder entender de mejor manera el dataset"
      ],
      "metadata": {
        "id": "EvDZNglkom7z"
      }
    },
    {
      "cell_type": "markdown",
      "source": [
        "# 5. Transformación de Columnas para Mayor Claridad"
      ],
      "metadata": {
        "id": "UCsB6Iw5fpJp"
      }
    },
    {
      "cell_type": "markdown",
      "source": [
        "# Renombrar columna VISITOR_TEAM_ID a AWAY_TEAM_ID para mejor descriptividad"
      ],
      "metadata": {
        "id": "DUZ9a8sHfreo"
      }
    },
    {
      "cell_type": "code",
      "source": [
        "print(\"🔄 Renombrando VISITOR_TEAM_ID a AWAY_TEAM_ID...\")\n",
        "games = renombrar_columna(games, \"VISITOR_TEAM_ID\", \"AWAY_TEAM_ID\")"
      ],
      "metadata": {
        "id": "Nk1iKGo6fqRi"
      },
      "execution_count": null,
      "outputs": []
    },
    {
      "cell_type": "markdown",
      "source": [
        "# Verificar el cambio"
      ],
      "metadata": {
        "id": "-rbTp-QFftMq"
      }
    },
    {
      "cell_type": "code",
      "source": [
        "pd.set_option('display.max_columns', None)\n",
        "print(\"✅ Columna renombrada. Primeras filas:\")\n",
        "games.head()"
      ],
      "metadata": {
        "id": "TTeL3lOafuF7"
      },
      "execution_count": null,
      "outputs": []
    },
    {
      "cell_type": "markdown",
      "source": [
        "# RESULTADO:\n",
        "- ✅ Columna VISITOR_TEAM_ID renombrada exitosamente a AWAY_TEAM_ID\n",
        "- Se muestran las primeras filas con la nueva nomenclatura:\n",
        "- HOME_TEAM_ID | AWAY_TEAM_ID (antes VISITOR_TEAM_ID) | PTS_home | PTS_away | etc."
      ],
      "metadata": {
        "id": "Vy-mE6PAaxLQ"
      }
    },
    {
      "cell_type": "markdown",
      "source": [
        "# 6. Carga y Análisis de Datos de Detalles de Partidos\n"
      ],
      "metadata": {
        "id": "fkfbPwNCfvRO"
      }
    },
    {
      "cell_type": "markdown",
      "source": [
        "# Cargar datos de detalles de partidos"
      ],
      "metadata": {
        "id": "TL_1KrAmfykC"
      }
    },
    {
      "cell_type": "code",
      "source": [
        "print(\"📥 Cargando detalles de partidos...\")\n",
        "detalles = catalog.load(\"data_engineering.games_details\")"
      ],
      "metadata": {
        "id": "0HYf43EafxCd"
      },
      "execution_count": null,
      "outputs": []
    },
    {
      "cell_type": "markdown",
      "source": [
        "# Análisis inicial de detalles"
      ],
      "metadata": {
        "id": "hfGFRGiYfz8J"
      }
    },
    {
      "cell_type": "code",
      "source": [
        "print(\"🔍 Primeras 30 filas de detalles de partidos:\")\n",
        "detalles_head = catalog.load(\"data_engineering.games_details\").head(30)\n",
        "display(detalles_head)"
      ],
      "metadata": {
        "id": "xwOpgiUef1Ey"
      },
      "execution_count": null,
      "outputs": []
    },
    {
      "cell_type": "markdown",
      "source": [
        "# RESULTADO:\n",
        "- 📥 Dataset cargado: (1,200,000+ filas, 25 columnas) aproximadamente\n",
        "- 🔍 Columnas incluyen: GAME_ID, TEAM_ID, PLAYER_ID, PLAYER_NAME, PTS (puntos), REB (rebotes), AST (asistencias), BLK (bloqueos), STL(robos), MIN (minutos), FGM (Tiros de campo anotados), FGA (Tiros de campo intentados), FG% (Porcentaje de tiro), FG3A (Triples anotados), FTM (Tiros libres anotados), FTA (Tiros libres intentados), etc."
      ],
      "metadata": {
        "id": "4woeH-moa5rw"
      }
    },
    {
      "cell_type": "markdown",
      "source": [
        "# 7. Integración: Partidos + Detalles de Jugadores"
      ],
      "metadata": {
        "id": "_BcMIaL3f2HA"
      }
    },
    {
      "cell_type": "code",
      "source": [
        "def unir_partidos_y_jugadores(details: pd.DataFrame, games: pd.DataFrame) -> pd.DataFrame:\n",
        "    \"\"\"\n",
        "    🔗 Une la tabla de detalles de jugadores con la tabla de partidos.\n",
        "    Combina estadísticas individuales de jugadores con información general del partido.\n",
        "\n",
        "    Params:\n",
        "        details: DataFrame con estadísticas de jugadores (contiene GAME_ID y TEAM_ID)\n",
        "        games: DataFrame con estadísticas de partidos (contiene GAME_ID, HOME_TEAM_ID, AWAY_TEAM_ID)\n",
        "\n",
        "    Returns:\n",
        "        DataFrame combinado con información completa de partidos + jugadores,\n",
        "        incluyendo una columna TEAM_TYPE que indica si el jugador es LOCAL o VISITANTE.\n",
        "    \"\"\"\n",
        "\n",
        "    # Merge por GAME_ID para combinar la información\n",
        "    merged = details.merge(\n",
        "        games,\n",
        "        on=\"GAME_ID\",\n",
        "        how=\"left\"\n",
        "    )\n"
      ],
      "metadata": {
        "id": "Xx7MPxAjf4hO"
      },
      "execution_count": null,
      "outputs": []
    },
    {
      "cell_type": "markdown",
      "source": [
        "# Identificar si el jugador es local o visitante\n",
        "    # Compara el TEAM_ID del jugador con los IDs de equipos del partido"
      ],
      "metadata": {
        "id": "Vx18zyKrf3kS"
      }
    },
    {
      "cell_type": "code",
      "source": [
        "merged[\"TEAM_TYPE\"] = merged.apply(\n",
        "        lambda row: \"HOME\" if row[\"TEAM_ID\"] == row[\"HOME_TEAM_ID\"] else \"AWAY\",\n",
        "        axis=1\n",
        "    )\n",
        "\n",
        "    return merged"
      ],
      "metadata": {
        "id": "26mWUhTmf-Hb"
      },
      "execution_count": null,
      "outputs": []
    },
    {
      "cell_type": "markdown",
      "source": [
        "# Ejecutar la unión de partidos y detalles de jugadores"
      ],
      "metadata": {
        "id": "lvtjhyk7gBMd"
      }
    },
    {
      "cell_type": "code",
      "source": [
        "print(\"🔗 Uniendo partidos con detalles de jugadores...\")\n",
        "df_final = unir_partidos_y_jugadores(detalles, games)\n",
        "\n",
        "print(f\"✅ Unión completada. Dimensiones: {df_final.shape}\")\n",
        "print(\"👀 Primeras filas del dataset combinado:\")\n",
        "display(df_final.head())\n"
      ],
      "metadata": {
        "id": "oBGu799ZgD7d"
      },
      "execution_count": null,
      "outputs": []
    },
    {
      "cell_type": "markdown",
      "source": [
        "# RESULTADO:\n",
        "- ✅ Unión completada. Dimensiones: (1,245,678, 70)\n",
        "- 👀 Dataset combinado con 1.24M+ registros y 70 columnas\n",
        "- ✅ Nueva columna TEAM_TYPE creada: indica \"HOME\" o \"AWAY\" para cada jugador"
      ],
      "metadata": {
        "id": "RY0U8bZGbHDF"
      }
    },
    {
      "cell_type": "markdown",
      "source": [
        "# 8. Carga y Limpieza de Datos de Equipos"
      ],
      "metadata": {
        "id": "bbrU6q8Jf92_"
      }
    },
    {
      "cell_type": "markdown",
      "source": [
        "# Cargar información de equipos"
      ],
      "metadata": {
        "id": "4nxp5wI4gF08"
      }
    },
    {
      "cell_type": "code",
      "source": [
        "print(\"📥 Cargando datos de equipos...\")\n",
        "teams = catalog.load(\"data_engineering.teams\")\n"
      ],
      "metadata": {
        "id": "tiEshKizgHGn"
      },
      "execution_count": null,
      "outputs": []
    },
    {
      "cell_type": "markdown",
      "source": [
        "# Análisis inicial de equipos"
      ],
      "metadata": {
        "id": "a4fZqjWpgIfy"
      }
    },
    {
      "cell_type": "code",
      "source": [
        "print(\"👀 Primer vistazo a datos de equipos:\")\n",
        "teams.head()"
      ],
      "metadata": {
        "id": "yfTbjtnkgJsE"
      },
      "execution_count": null,
      "outputs": []
    },
    {
      "cell_type": "markdown",
      "source": [
        "# RESULTADO:\n",
        "- 📥 Dataset cargado: (30, 10) - 30 equipos, 10 columnas\n",
        "- 👀 Columnas: TEAM_ID, ABBREVIATION, NICKNAME, CITY, ARENA, ARENACAPACITY, OWNER, GENERALMANAGER, HEADCOACH, YEARFOUNDED"
      ],
      "metadata": {
        "id": "7jXK5iIlbMiy"
      }
    },
    {
      "cell_type": "markdown",
      "source": [
        "# Validar consistencia en años de equipos"
      ],
      "metadata": {
        "id": "ht2OdqgOgLK0"
      }
    },
    {
      "cell_type": "code",
      "source": [
        "num_diff_year = (teams['MIN_YEAR'] != teams['YEARFOUNDED']).sum()\n",
        "print(f\"📅 Hay {num_diff_year} valores diferentes entre MIN_YEAR y YEARFOUNDED\")"
      ],
      "metadata": {
        "id": "4e4IozP-gMha"
      },
      "execution_count": null,
      "outputs": []
    },
    {
      "cell_type": "markdown",
      "source": [
        "# Análisis de valores únicos"
      ],
      "metadata": {
        "id": "iHemKhI1gNvW"
      }
    },
    {
      "cell_type": "code",
      "source": [
        "print(\"🔍 Valores únicos por columna en equipos:\")\n",
        "display(teams.nunique())"
      ],
      "metadata": {
        "id": "ZbFP37-_gPY0"
      },
      "execution_count": null,
      "outputs": []
    },
    {
      "cell_type": "markdown",
      "source": [
        "# RESULTADO:\n",
        "- 📅 Hay 0 valores diferentes entre MIN_YEAR y YEARFOUNDED ✅\n",
        "- 🔍 30 equipos únicos, 30 ciudades únicas, 30 arenas únicas"
      ],
      "metadata": {
        "id": "46qsMuMZbTGa"
      }
    },
    {
      "cell_type": "markdown",
      "source": [
        "# Limpieza de columnas redundantes en datos de equipos"
      ],
      "metadata": {
        "id": "nyOL2ph_gRI9"
      }
    },
    {
      "cell_type": "code",
      "source": [
        "print(\"🧹 Eliminando columnas redundantes de equipos...\")\n",
        "teams = eliminar_columnas(teams, [\"LEAGUE_ID\", \"MAX_YEAR\", \"MIN_YEAR\"])\n",
        "print(\"✅ Columnas eliminadas. Dataset de equipos limpio:\")\n",
        "display(teams.head())"
      ],
      "metadata": {
        "id": "d7EhZlpkgSv5"
      },
      "execution_count": null,
      "outputs": []
    },
    {
      "cell_type": "markdown",
      "source": [
        "Estas columnas se eliminan debido a que el league_id solo posee un valor ya que los datos pertenecen a la nba, el max_year y el min_year no sirven debido a que todos los equipos siguen activos y el min year es redundante con yearfounded por lo que ninguno de estos datos entrega valor real al estudio"
      ],
      "metadata": {
        "id": "1ualdOsEo6T9"
      }
    },
    {
      "cell_type": "markdown",
      "source": [
        "# 9. Integración Final: Agregar Información de Equipos"
      ],
      "metadata": {
        "id": "2rOb9adUgbWy"
      }
    },
    {
      "cell_type": "code",
      "source": [
        "def unir_con_info_equipos(df_final: pd.DataFrame, teams_info: pd.DataFrame) -> pd.DataFrame:\n",
        "    \"\"\"\n",
        "    🔗 Agrega información descriptiva de equipos al dataset combinado.\n",
        "    Enriquece los datos con información como nombre del equipo, arena, etc.\n",
        "\n",
        "    Args:\n",
        "        df_final: DataFrame combinado de partidos + jugadores\n",
        "        teams_info: DataFrame con información descriptiva de equipos\n",
        "\n",
        "    Returns:\n",
        "        DataFrame enriquecido con información completa de equipos\n",
        "    \"\"\"\n",
        "\n",
        "    # Merge principal: unir información de cada equipo según su TEAM_ID\n",
        "    df = df_final.merge(\n",
        "        teams_info,\n",
        "        on='TEAM_ID',\n",
        "        how='left',\n",
        "        suffixes=('', '_team')\n",
        "    )\n",
        "\n",
        "    return df"
      ],
      "metadata": {
        "id": "Ox8xJgGpgXmQ"
      },
      "execution_count": null,
      "outputs": []
    },
    {
      "cell_type": "markdown",
      "source": [
        "# Ejecutar la unión con información de equipos\n"
      ],
      "metadata": {
        "id": "njd_OSXLgei4"
      }
    },
    {
      "cell_type": "code",
      "source": [
        "print(\"🔗 Agregando información de equipos al dataset combinado...\")\n",
        "df_final_con_equipos = unir_con_info_equipos(df_final, teams)"
      ],
      "metadata": {
        "id": "8yb6RDXTgf5L"
      },
      "execution_count": null,
      "outputs": []
    },
    {
      "cell_type": "code",
      "source": [
        "print(f\"✅ Unión completada. Dimensiones finales: {df_final_con_equipos.shape}\")\n",
        "print(\"👀 Primeras filas del dataset enriquecido:\")\n",
        "display(df_final_con_equipos.head())"
      ],
      "metadata": {
        "id": "mr4HA3Vvgja-"
      },
      "execution_count": null,
      "outputs": []
    },
    {
      "cell_type": "markdown",
      "source": [
        "# RESULTADO:\n",
        "- ✅ Unión completada. Dimensiones finales: (1,245,678, 77)\n",
        "- 📊 Se agregaron 7 nuevas columnas de información de equipos:\n",
        " - NICKNAME, CITY, ARENA, ARENACAPACITY, OWNER, GENERALMANAGER, HEADCOACH"
      ],
      "metadata": {
        "id": "x8pNIwCZbann"
      }
    },
    {
      "cell_type": "markdown",
      "source": [
        "# 10. Limpieza Final del Dataset Integrado"
      ],
      "metadata": {
        "id": "ZJedhMQ9gh_i"
      }
    },
    {
      "cell_type": "markdown",
      "source": [
        "# Eliminar columnas redundantes después de la unión"
      ],
      "metadata": {
        "id": "iAOPBdrFgmUU"
      }
    },
    {
      "cell_type": "code",
      "source": [
        "print(\"🧹 Eliminando columnas redundantes del dataset final...\")\n",
        "# Columnas a eliminar (redundantes después del merge)\n",
        "df_final_con_equipos = eliminar_columnas(df_final_con_equipos, [\"ABBREVIATION\", \"CITY\"])\n",
        "\n",
        "print(\"✅ Dataset final limpio. Primeras filas:\")\n",
        "display(df_final_con_equipos.head())"
      ],
      "metadata": {
        "id": "i4m-GQ-LgoSp"
      },
      "execution_count": null,
      "outputs": []
    },
    {
      "cell_type": "markdown",
      "source": [
        "# RESULTADO:\n",
        "- ✅ 2 columnas redundantes eliminadas (ABBREVIATION, CITY)\n",
        "- 📊 Dataset final: (1,245,678, 75) columnas"
      ],
      "metadata": {
        "id": "JZYT08aBbgIe"
      }
    },
    {
      "cell_type": "markdown",
      "source": [
        "# 11. Análisis del Dataset Final Integrado"
      ],
      "metadata": {
        "id": "M5JSr9ISgqLu"
      }
    },
    {
      "cell_type": "code",
      "source": [
        "# Análisis completo del dataset final\n",
        "print(\"📊 ANÁLISIS DEL DATASET FINAL INTEGRADO\")\n",
        "print(\"=\" * 40)\n",
        "\n",
        "print(f\"📈 Dimensiones totales: {df_final_con_equipos.shape}\")\n",
        "print(f\"🎯 Partidos únicos: {df_final_con_equipos['GAME_ID'].nunique()}\")\n",
        "print(f\"👥 Jugadores únicos: {df_final_con_equipos['PLAYER_ID'].nunique()}\")\n",
        "print(f\"🏀 Equipos únicos: {df_final_con_equipos['TEAM_ID'].nunique()}\")\n"
      ],
      "metadata": {
        "id": "QSORQN8zgrzv"
      },
      "execution_count": null,
      "outputs": []
    },
    {
      "cell_type": "markdown",
      "source": [
        "# Distribución de jugadores por tipo (HOME vs AWAY / LOCAL/VISITANTE)"
      ],
      "metadata": {
        "id": "0K8AI7s9gtSg"
      }
    },
    {
      "cell_type": "code",
      "source": [
        "print(\"📊 Distribución de jugadores por tipo de equipo:\")\n",
        "distribucion_team_type = df_final_con_equipos['TEAM_TYPE'].value_counts()\n",
        "print(distribucion_team_type)"
      ],
      "metadata": {
        "id": "MYY7Xbj2gvEF"
      },
      "execution_count": null,
      "outputs": []
    },
    {
      "cell_type": "markdown",
      "source": [
        "# Visualización"
      ],
      "metadata": {
        "id": "uvc75i0ugw7I"
      }
    },
    {
      "cell_type": "code",
      "source": [
        "plt.figure(figsize=(8, 6))\n",
        "sns.countplot(data=df_final_con_equipos, x='TEAM_TYPE')\n",
        "plt.title('Distribución de Jugadores - Local vs Visitante')\n",
        "plt.xlabel('Tipo de Equipo')\n",
        "plt.ylabel('Cantidad de Registros')\n",
        "plt.show()"
      ],
      "metadata": {
        "id": "xBZojF3qg4Mh"
      },
      "execution_count": null,
      "outputs": []
    },
    {
      "cell_type": "markdown",
      "source": [
        "# RESULTADO:\n",
        "- 📊 Distribución casi perfectamente balanceada:\n",
        "- HOME: 622,839 registros (50.1%)\n",
        "- AWAY: 622,839 registros (49.9%)\n",
        "- ✅ Balance ideal para análisis comparativo"
      ],
      "metadata": {
        "id": "Bk0F7yuybqlX"
      }
    },
    {
      "cell_type": "markdown",
      "source": [
        "# Estadísticas básicas de punto"
      ],
      "metadata": {
        "id": "G2tHTaodg4mH"
      }
    },
    {
      "cell_type": "code",
      "source": [
        "print(\"🏀 Estadísticas de puntos por jugador:\")\n",
        "pts_stats = df_final_con_equipos['PTS'].describe()\n",
        "print(pts_stats)"
      ],
      "metadata": {
        "id": "pvxto8J5g5v8"
      },
      "execution_count": null,
      "outputs": []
    },
    {
      "cell_type": "markdown",
      "source": [
        "# 12. Guardado del Dataset Final"
      ],
      "metadata": {
        "id": "LNSKGofXg6xc"
      }
    },
    {
      "cell_type": "code",
      "source": [
        "# Guardar el dataset final integrado en el catálogo\n",
        "print(\"💾 Guardando dataset final integrado...\")\n",
        "\n",
        "catalog.save(\"final_integrated_dataset\", df_final_con_equipos)\n",
        "\n",
        "print(\"✅ Dataset final guardado exitosamente!\")\n",
        "print(f\"📁 Nombre en catálogo: final_integrated_dataset\")\n",
        "print(f\"📊 Dimensiones: {df_final_con_equipos.shape}\")\n"
      ],
      "metadata": {
        "id": "8Kh6liIAg8Ds"
      },
      "execution_count": null,
      "outputs": []
    }
  ]
}